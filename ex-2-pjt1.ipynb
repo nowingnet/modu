{
 "cells": [
  {
   "cell_type": "markdown",
   "id": "8fe25fd7",
   "metadata": {},
   "source": [
    "# 프로젝트 1 - 당뇨병 수치를 맞춰보자!"
   ]
  },
  {
   "cell_type": "markdown",
   "id": "91c79e25",
   "metadata": {},
   "source": [
    "# (프로젝트 1-1) 데이터 가져오기"
   ]
  },
  {
   "cell_type": "code",
   "execution_count": 1,
   "id": "d8e58367",
   "metadata": {},
   "outputs": [],
   "source": [
    "from sklearn.datasets import load_diabetes\n",
    "import numpy as np\n",
    "\n",
    "diabetes = load_diabetes(as_frame=True)\n",
    "\n",
    "df_X = diabetes.data\n",
    "df_y = diabetes.target"
   ]
  },
  {
   "cell_type": "markdown",
   "id": "9637f10d",
   "metadata": {},
   "source": [
    "# (프로젝트 1-2) 모델에 입력할 데이터 X준비하기 "
   ]
  },
  {
   "cell_type": "code",
   "execution_count": 2,
   "id": "eb1feef8",
   "metadata": {},
   "outputs": [],
   "source": [
    "np_X = df_X.values"
   ]
  },
  {
   "cell_type": "markdown",
   "id": "95b43bb8",
   "metadata": {},
   "source": [
    "# (프로젝트 1-3) 모델에 예측할 데이터 y준비하기"
   ]
  },
  {
   "cell_type": "code",
   "execution_count": 3,
   "id": "5bc2fa4c",
   "metadata": {},
   "outputs": [],
   "source": [
    "np_y = df_y.values"
   ]
  },
  {
   "cell_type": "markdown",
   "id": "c970c77c",
   "metadata": {},
   "source": [
    "# (프로젝트 1-4) train데이터와 test데이터 분리하기"
   ]
  },
  {
   "cell_type": "code",
   "execution_count": 4,
   "id": "bc69bb89",
   "metadata": {},
   "outputs": [],
   "source": [
    "from sklearn.model_selection import train_test_split\n",
    "X_train, X_test, y_train, y_test = train_test_split(np_X, np_y, test_size=0.2, random_state=11 )"
   ]
  },
  {
   "cell_type": "markdown",
   "id": "f44afdd2",
   "metadata": {},
   "source": [
    "# (프로젝트 1-5) 모델 준비하기"
   ]
  },
  {
   "cell_type": "code",
   "execution_count": 5,
   "id": "6b728e52",
   "metadata": {},
   "outputs": [],
   "source": [
    "W = np.random.rand(10)\n",
    "b = np.random.rand()\n",
    "\n",
    "def model( X, W, b):\n",
    "    predictions = 0\n",
    "    for i in range(10):\n",
    "        predictions += X[:,i]*W[i]\n",
    "    predictions += b\n",
    "    \n",
    "    return predictions"
   ]
  },
  {
   "cell_type": "markdown",
   "id": "94ab58ef",
   "metadata": {},
   "source": [
    "# (프로젝트 1-6) 손실함수 loss정의하기"
   ]
  },
  {
   "cell_type": "code",
   "execution_count": 6,
   "id": "b31b6e68",
   "metadata": {},
   "outputs": [],
   "source": [
    "def MSE(a,b):\n",
    "    mse = ((a-b) **2 ).mean()\n",
    "    #rmse = mse ** 0.5\n",
    "    return mse\n",
    "\n",
    "def loss(X,W,b,y):\n",
    "    predictions = model(X,W,b)\n",
    "    L = MSE(predictions, y)\n",
    "    return L"
   ]
  },
  {
   "cell_type": "markdown",
   "id": "1e517b1e",
   "metadata": {},
   "source": [
    "# (프로젝트 1-7) 기울기를 구하는 gradient함수 구현하기"
   ]
  },
  {
   "cell_type": "code",
   "execution_count": 7,
   "id": "93180ffc",
   "metadata": {},
   "outputs": [],
   "source": [
    "def gradient(X,W,b,y):\n",
    "    N = len(W)\n",
    "    \n",
    "    y_pred = model(X,W,b)\n",
    "    \n",
    "    dW = 1/N * 2 * X.T.dot(y_pred-y)\n",
    "    db = 2 * (y_pred - y).mean()\n",
    "    return dW, db"
   ]
  },
  {
   "cell_type": "markdown",
   "id": "7340bcf4",
   "metadata": {},
   "source": [
    "# (프로젝트 1-8) 하이퍼 파라미터인 학습률 설정하기"
   ]
  },
  {
   "cell_type": "code",
   "execution_count": 8,
   "id": "0b1feaa2",
   "metadata": {},
   "outputs": [],
   "source": [
    "LEARNING_RATE = 0.0010"
   ]
  },
  {
   "cell_type": "markdown",
   "id": "35830f06",
   "metadata": {},
   "source": [
    "# (프로젝트 1-9) 모델 학습하기"
   ]
  },
  {
   "cell_type": "code",
   "execution_count": 9,
   "id": "442607b1",
   "metadata": {},
   "outputs": [
    {
     "name": "stdout",
     "output_type": "stream",
     "text": [
      "Iteration 0 : Loss 28310.5307\n",
      "Iteration 5000 : Loss 3081.4699\n",
      "Iteration 10000 : Loss 2871.2910\n",
      "Iteration 15000 : Loss 2825.6952\n",
      "Iteration 20000 : Loss 2814.0482\n",
      "Iteration 25000 : Loss 2810.4611\n",
      "Iteration 30000 : Loss 2809.0816\n"
     ]
    }
   ],
   "source": [
    "import matplotlib.pyplot as plt\n",
    "from sklearn.metrics import mean_squared_error\n",
    "\n",
    "losses = []\n",
    "\n",
    "for i in range(30001):\n",
    "    dW, db = gradient(X_train, W, b, y_train)\n",
    "    W -= LEARNING_RATE * dW\n",
    "    b -= LEARNING_RATE * db\n",
    "    L = loss(X_train, W, b, y_train)\n",
    "    losses.append(L)\n",
    "    if i % 5000 == 0:\n",
    "        print('Iteration %d : Loss %0.4f' % (i, L))\n",
    "\n"
   ]
  },
  {
   "cell_type": "markdown",
   "id": "8860e6e9",
   "metadata": {},
   "source": [
    "# (프로젝트 1-10) test데이터에 대한 성능 확인하기"
   ]
  },
  {
   "cell_type": "code",
   "execution_count": 10,
   "id": "383753cf",
   "metadata": {},
   "outputs": [],
   "source": [
    "y_pred = model(X_test, W, b)        \n",
    "mse = mean_squared_error(y_test, y_pred)"
   ]
  },
  {
   "cell_type": "markdown",
   "id": "e1d824a8",
   "metadata": {},
   "source": [
    "# (프로젝트 1-11) 정답데이터와 예측한 데이터 시각화하기"
   ]
  },
  {
   "cell_type": "code",
   "execution_count": 12,
   "id": "5183b4ee",
   "metadata": {
    "scrolled": true
   },
   "outputs": [
    {
     "data": {
      "image/png": "[encoded data removed]",
      "text/plain": [
       "<Figure size 432x288 with 1 Axes>"
      ]
     },
     "metadata": {
      "needs_background": "light"
     },
     "output_type": "display_data"
    }
   ],
   "source": [
    "#x데이터 첫번째 컬럼, y축은 타겟 데이터 \n",
    "\n",
    "plt.scatter(X_test[:, 0], y_test, label=\"true\")\n",
    "plt.scatter(X_test[:, 0], y_pred, label=\"pred\")\n",
    "plt.legend()\n",
    "plt.show()"
   ]
  },
  {
   "cell_type": "markdown",
   "id": "aea038cb",
   "metadata": {},
   "source": [
    "# 프로젝트 2"
   ]
  },
  {
   "cell_type": "markdown",
   "id": "d10915fd",
   "metadata": {},
   "source": [
    "# (프로젝트 2-1) 데이터 가져오기"
   ]
  },
  {
   "cell_type": "code",
   "execution_count": null,
   "id": "903fb94c",
   "metadata": {},
   "outputs": [],
   "source": []
  }
 ],
 "metadata": {
  "kernelspec": {
   "display_name": "Python 3 (ipykernel)",
   "language": "python",
   "name": "python3"
  },
  "language_info": {
   "codemirror_mode": {
    "name": "ipython",
    "version": 3
   },
   "file_extension": ".py",
   "mimetype": "text/x-python",
   "name": "python",
   "nbconvert_exporter": "python",
   "pygments_lexer": "ipython3",
   "version": "3.9.7"
  }
 },
 "nbformat": 4,
 "nbformat_minor": 5
}
