{
 "cells": [
  {
   "cell_type": "markdown",
   "id": "3f9bf818",
   "metadata": {},
   "source": [
    "##  Movielens 영화 추천 실습"
   ]
  },
  {
   "cell_type": "markdown",
   "id": "acb1fb90",
   "metadata": {},
   "source": [
    "#### 라이브러리 로드"
   ]
  },
  {
   "cell_type": "code",
   "execution_count": 1,
   "id": "5f8427a6",
   "metadata": {},
   "outputs": [
    {
     "name": "stdout",
     "output_type": "stream",
     "text": [
      "1.21.4\n",
      "1.7.1\n",
      "0.4.8\n"
     ]
    }
   ],
   "source": [
    "#kernel tf-210 \n",
    "import numpy as np\n",
    "import scipy\n",
    "import implicit\n",
    "import pandas as pd\n",
    "import os\n",
    "\n",
    "print(np.__version__)\n",
    "print(scipy.__version__)\n",
    "print(implicit.__version__)"
   ]
  },
  {
   "cell_type": "markdown",
   "id": "773cd959",
   "metadata": {},
   "source": [
    "#### 데이터 로드"
   ]
  },
  {
   "cell_type": "code",
   "execution_count": 2,
   "id": "0a3b460f",
   "metadata": {},
   "outputs": [
    {
     "data": {
      "text/html": [
       "<div>\n",
       "<style scoped>\n",
       "    .dataframe tbody tr th:only-of-type {\n",
       "        vertical-align: middle;\n",
       "    }\n",
       "\n",
       "    .dataframe tbody tr th {\n",
       "        vertical-align: top;\n",
       "    }\n",
       "\n",
       "    .dataframe thead th {\n",
       "        text-align: right;\n",
       "    }\n",
       "</style>\n",
       "<table border=\"1\" class=\"dataframe\">\n",
       "  <thead>\n",
       "    <tr style=\"text-align: right;\">\n",
       "      <th></th>\n",
       "      <th>user_id</th>\n",
       "      <th>movie_id</th>\n",
       "      <th>ratings</th>\n",
       "      <th>timestamp</th>\n",
       "    </tr>\n",
       "  </thead>\n",
       "  <tbody>\n",
       "    <tr>\n",
       "      <th>0</th>\n",
       "      <td>1</td>\n",
       "      <td>1193</td>\n",
       "      <td>5</td>\n",
       "      <td>978300760</td>\n",
       "    </tr>\n",
       "    <tr>\n",
       "      <th>1</th>\n",
       "      <td>1</td>\n",
       "      <td>661</td>\n",
       "      <td>3</td>\n",
       "      <td>978302109</td>\n",
       "    </tr>\n",
       "    <tr>\n",
       "      <th>2</th>\n",
       "      <td>1</td>\n",
       "      <td>914</td>\n",
       "      <td>3</td>\n",
       "      <td>978301968</td>\n",
       "    </tr>\n",
       "    <tr>\n",
       "      <th>3</th>\n",
       "      <td>1</td>\n",
       "      <td>3408</td>\n",
       "      <td>4</td>\n",
       "      <td>978300275</td>\n",
       "    </tr>\n",
       "    <tr>\n",
       "      <th>4</th>\n",
       "      <td>1</td>\n",
       "      <td>2355</td>\n",
       "      <td>5</td>\n",
       "      <td>978824291</td>\n",
       "    </tr>\n",
       "    <tr>\n",
       "      <th>5</th>\n",
       "      <td>1</td>\n",
       "      <td>1197</td>\n",
       "      <td>3</td>\n",
       "      <td>978302268</td>\n",
       "    </tr>\n",
       "    <tr>\n",
       "      <th>6</th>\n",
       "      <td>1</td>\n",
       "      <td>1287</td>\n",
       "      <td>5</td>\n",
       "      <td>978302039</td>\n",
       "    </tr>\n",
       "    <tr>\n",
       "      <th>7</th>\n",
       "      <td>1</td>\n",
       "      <td>2804</td>\n",
       "      <td>5</td>\n",
       "      <td>978300719</td>\n",
       "    </tr>\n",
       "    <tr>\n",
       "      <th>8</th>\n",
       "      <td>1</td>\n",
       "      <td>594</td>\n",
       "      <td>4</td>\n",
       "      <td>978302268</td>\n",
       "    </tr>\n",
       "    <tr>\n",
       "      <th>9</th>\n",
       "      <td>1</td>\n",
       "      <td>919</td>\n",
       "      <td>4</td>\n",
       "      <td>978301368</td>\n",
       "    </tr>\n",
       "  </tbody>\n",
       "</table>\n",
       "</div>"
      ],
      "text/plain": [
       "   user_id  movie_id  ratings  timestamp\n",
       "0        1      1193        5  978300760\n",
       "1        1       661        3  978302109\n",
       "2        1       914        3  978301968\n",
       "3        1      3408        4  978300275\n",
       "4        1      2355        5  978824291\n",
       "5        1      1197        3  978302268\n",
       "6        1      1287        5  978302039\n",
       "7        1      2804        5  978300719\n",
       "8        1       594        4  978302268\n",
       "9        1       919        4  978301368"
      ]
     },
     "execution_count": 2,
     "metadata": {},
     "output_type": "execute_result"
    }
   ],
   "source": [
    "import os\n",
    "rating_file_path=os.getenv('HOME') + '/aiffel/recommendata_iu/data/ml-1m/ratings.dat'\n",
    "ratings_cols = ['user_id', 'movie_id', 'ratings', 'timestamp']\n",
    "ratings = pd.read_csv(rating_file_path, sep='::', names=ratings_cols, engine='python', encoding = \"ISO-8859-1\")\n",
    "orginal_data_size = len(ratings)\n",
    "ratings.head(10)"
   ]
  },
  {
   "cell_type": "markdown",
   "id": "428aa27b",
   "metadata": {},
   "source": [
    "#### 데이터 전처리"
   ]
  },
  {
   "cell_type": "code",
   "execution_count": 3,
   "id": "4655a3e3",
   "metadata": {},
   "outputs": [
    {
     "name": "stdout",
     "output_type": "stream",
     "text": [
      "orginal_data_size: 1000209, filtered_data_size: 836478\n",
      "Ratio of Remaining Data is 83.63%\n"
     ]
    }
   ],
   "source": [
    "# 3점 이상만 남깁니다.\n",
    "ratings = ratings[ratings['ratings']>=3]\n",
    "filtered_data_size = len(ratings)\n",
    "\n",
    "print(f'orginal_data_size: {orginal_data_size}, filtered_data_size: {filtered_data_size}')\n",
    "print(f'Ratio of Remaining Data is {filtered_data_size / orginal_data_size:.2%}')"
   ]
  },
  {
   "cell_type": "code",
   "execution_count": 4,
   "id": "0708b658",
   "metadata": {},
   "outputs": [],
   "source": [
    "# ratings 컬럼의 이름을 counts로 바꿉니다.\n",
    "ratings.rename(columns={'ratings':'counts'}, inplace=True)"
   ]
  },
  {
   "cell_type": "code",
   "execution_count": 5,
   "id": "48e5ff3d",
   "metadata": {},
   "outputs": [
    {
     "data": {
      "text/plain": [
       "0          5\n",
       "1          3\n",
       "2          3\n",
       "3          4\n",
       "4          5\n",
       "          ..\n",
       "1000203    3\n",
       "1000205    5\n",
       "1000206    5\n",
       "1000207    4\n",
       "1000208    4\n",
       "Name: counts, Length: 836478, dtype: int64"
      ]
     },
     "execution_count": 5,
     "metadata": {},
     "output_type": "execute_result"
    }
   ],
   "source": [
    "ratings['counts']"
   ]
  },
  {
   "cell_type": "markdown",
   "id": "caae326c",
   "metadata": {},
   "source": [
    "#### 영화 메타 데이터 로드"
   ]
  },
  {
   "cell_type": "code",
   "execution_count": 6,
   "id": "e642f8ab",
   "metadata": {},
   "outputs": [
    {
     "data": {
      "text/html": [
       "<div>\n",
       "<style scoped>\n",
       "    .dataframe tbody tr th:only-of-type {\n",
       "        vertical-align: middle;\n",
       "    }\n",
       "\n",
       "    .dataframe tbody tr th {\n",
       "        vertical-align: top;\n",
       "    }\n",
       "\n",
       "    .dataframe thead th {\n",
       "        text-align: right;\n",
       "    }\n",
       "</style>\n",
       "<table border=\"1\" class=\"dataframe\">\n",
       "  <thead>\n",
       "    <tr style=\"text-align: right;\">\n",
       "      <th></th>\n",
       "      <th>movie_id</th>\n",
       "      <th>title</th>\n",
       "      <th>genre</th>\n",
       "    </tr>\n",
       "  </thead>\n",
       "  <tbody>\n",
       "    <tr>\n",
       "      <th>0</th>\n",
       "      <td>1</td>\n",
       "      <td>Toy Story (1995)</td>\n",
       "      <td>Animation|Children's|Comedy</td>\n",
       "    </tr>\n",
       "    <tr>\n",
       "      <th>1</th>\n",
       "      <td>2</td>\n",
       "      <td>Jumanji (1995)</td>\n",
       "      <td>Adventure|Children's|Fantasy</td>\n",
       "    </tr>\n",
       "    <tr>\n",
       "      <th>2</th>\n",
       "      <td>3</td>\n",
       "      <td>Grumpier Old Men (1995)</td>\n",
       "      <td>Comedy|Romance</td>\n",
       "    </tr>\n",
       "    <tr>\n",
       "      <th>3</th>\n",
       "      <td>4</td>\n",
       "      <td>Waiting to Exhale (1995)</td>\n",
       "      <td>Comedy|Drama</td>\n",
       "    </tr>\n",
       "    <tr>\n",
       "      <th>4</th>\n",
       "      <td>5</td>\n",
       "      <td>Father of the Bride Part II (1995)</td>\n",
       "      <td>Comedy</td>\n",
       "    </tr>\n",
       "  </tbody>\n",
       "</table>\n",
       "</div>"
      ],
      "text/plain": [
       "   movie_id                               title                         genre\n",
       "0         1                    Toy Story (1995)   Animation|Children's|Comedy\n",
       "1         2                      Jumanji (1995)  Adventure|Children's|Fantasy\n",
       "2         3             Grumpier Old Men (1995)                Comedy|Romance\n",
       "3         4            Waiting to Exhale (1995)                  Comedy|Drama\n",
       "4         5  Father of the Bride Part II (1995)                        Comedy"
      ]
     },
     "execution_count": 6,
     "metadata": {},
     "output_type": "execute_result"
    }
   ],
   "source": [
    "# 영화 제목을 보기 위해 메타 데이터를 읽어옵니다.\n",
    "movie_file_path=os.getenv('HOME') + '/aiffel/recommendata_iu/data/ml-1m/movies.dat'\n",
    "cols = ['movie_id', 'title', 'genre'] \n",
    "movies = pd.read_csv(movie_file_path, sep='::', names=cols, engine='python', encoding='ISO-8859-1')\n",
    "movies.head()"
   ]
  },
  {
   "cell_type": "markdown",
   "id": "692a8a73",
   "metadata": {},
   "source": [
    "#### 평점과 영화데이터 Merge"
   ]
  },
  {
   "cell_type": "code",
   "execution_count": 7,
   "id": "5a118236",
   "metadata": {},
   "outputs": [],
   "source": [
    "ratings = pd.merge(ratings, movies[['title','movie_id']], on='movie_id', how='left')"
   ]
  },
  {
   "cell_type": "code",
   "execution_count": 8,
   "id": "a68f242c",
   "metadata": {
    "scrolled": false
   },
   "outputs": [
    {
     "data": {
      "text/html": [
       "<div>\n",
       "<style scoped>\n",
       "    .dataframe tbody tr th:only-of-type {\n",
       "        vertical-align: middle;\n",
       "    }\n",
       "\n",
       "    .dataframe tbody tr th {\n",
       "        vertical-align: top;\n",
       "    }\n",
       "\n",
       "    .dataframe thead th {\n",
       "        text-align: right;\n",
       "    }\n",
       "</style>\n",
       "<table border=\"1\" class=\"dataframe\">\n",
       "  <thead>\n",
       "    <tr style=\"text-align: right;\">\n",
       "      <th></th>\n",
       "      <th>user_id</th>\n",
       "      <th>movie_id</th>\n",
       "      <th>counts</th>\n",
       "      <th>timestamp</th>\n",
       "      <th>title</th>\n",
       "    </tr>\n",
       "  </thead>\n",
       "  <tbody>\n",
       "    <tr>\n",
       "      <th>0</th>\n",
       "      <td>1</td>\n",
       "      <td>1193</td>\n",
       "      <td>5</td>\n",
       "      <td>978300760</td>\n",
       "      <td>One Flew Over the Cuckoo's Nest (1975)</td>\n",
       "    </tr>\n",
       "    <tr>\n",
       "      <th>1</th>\n",
       "      <td>1</td>\n",
       "      <td>661</td>\n",
       "      <td>3</td>\n",
       "      <td>978302109</td>\n",
       "      <td>James and the Giant Peach (1996)</td>\n",
       "    </tr>\n",
       "    <tr>\n",
       "      <th>2</th>\n",
       "      <td>1</td>\n",
       "      <td>914</td>\n",
       "      <td>3</td>\n",
       "      <td>978301968</td>\n",
       "      <td>My Fair Lady (1964)</td>\n",
       "    </tr>\n",
       "    <tr>\n",
       "      <th>3</th>\n",
       "      <td>1</td>\n",
       "      <td>3408</td>\n",
       "      <td>4</td>\n",
       "      <td>978300275</td>\n",
       "      <td>Erin Brockovich (2000)</td>\n",
       "    </tr>\n",
       "    <tr>\n",
       "      <th>4</th>\n",
       "      <td>1</td>\n",
       "      <td>2355</td>\n",
       "      <td>5</td>\n",
       "      <td>978824291</td>\n",
       "      <td>Bug's Life, A (1998)</td>\n",
       "    </tr>\n",
       "    <tr>\n",
       "      <th>...</th>\n",
       "      <td>...</td>\n",
       "      <td>...</td>\n",
       "      <td>...</td>\n",
       "      <td>...</td>\n",
       "      <td>...</td>\n",
       "    </tr>\n",
       "    <tr>\n",
       "      <th>836473</th>\n",
       "      <td>6040</td>\n",
       "      <td>1090</td>\n",
       "      <td>3</td>\n",
       "      <td>956715518</td>\n",
       "      <td>Platoon (1986)</td>\n",
       "    </tr>\n",
       "    <tr>\n",
       "      <th>836474</th>\n",
       "      <td>6040</td>\n",
       "      <td>1094</td>\n",
       "      <td>5</td>\n",
       "      <td>956704887</td>\n",
       "      <td>Crying Game, The (1992)</td>\n",
       "    </tr>\n",
       "    <tr>\n",
       "      <th>836475</th>\n",
       "      <td>6040</td>\n",
       "      <td>562</td>\n",
       "      <td>5</td>\n",
       "      <td>956704746</td>\n",
       "      <td>Welcome to the Dollhouse (1995)</td>\n",
       "    </tr>\n",
       "    <tr>\n",
       "      <th>836476</th>\n",
       "      <td>6040</td>\n",
       "      <td>1096</td>\n",
       "      <td>4</td>\n",
       "      <td>956715648</td>\n",
       "      <td>Sophie's Choice (1982)</td>\n",
       "    </tr>\n",
       "    <tr>\n",
       "      <th>836477</th>\n",
       "      <td>6040</td>\n",
       "      <td>1097</td>\n",
       "      <td>4</td>\n",
       "      <td>956715569</td>\n",
       "      <td>E.T. the Extra-Terrestrial (1982)</td>\n",
       "    </tr>\n",
       "  </tbody>\n",
       "</table>\n",
       "<p>836478 rows × 5 columns</p>\n",
       "</div>"
      ],
      "text/plain": [
       "        user_id  movie_id  counts  timestamp  \\\n",
       "0             1      1193       5  978300760   \n",
       "1             1       661       3  978302109   \n",
       "2             1       914       3  978301968   \n",
       "3             1      3408       4  978300275   \n",
       "4             1      2355       5  978824291   \n",
       "...         ...       ...     ...        ...   \n",
       "836473     6040      1090       3  956715518   \n",
       "836474     6040      1094       5  956704887   \n",
       "836475     6040       562       5  956704746   \n",
       "836476     6040      1096       4  956715648   \n",
       "836477     6040      1097       4  956715569   \n",
       "\n",
       "                                         title  \n",
       "0       One Flew Over the Cuckoo's Nest (1975)  \n",
       "1             James and the Giant Peach (1996)  \n",
       "2                          My Fair Lady (1964)  \n",
       "3                       Erin Brockovich (2000)  \n",
       "4                         Bug's Life, A (1998)  \n",
       "...                                        ...  \n",
       "836473                          Platoon (1986)  \n",
       "836474                 Crying Game, The (1992)  \n",
       "836475         Welcome to the Dollhouse (1995)  \n",
       "836476                  Sophie's Choice (1982)  \n",
       "836477       E.T. the Extra-Terrestrial (1982)  \n",
       "\n",
       "[836478 rows x 5 columns]"
      ]
     },
     "execution_count": 8,
     "metadata": {},
     "output_type": "execute_result"
    }
   ],
   "source": [
    "ratings"
   ]
  },
  {
   "cell_type": "markdown",
   "id": "91b29767",
   "metadata": {},
   "source": [
    "#### 영화제목을 기준으로 높은 평점 순 정렬"
   ]
  },
  {
   "cell_type": "code",
   "execution_count": 9,
   "id": "115d7825",
   "metadata": {},
   "outputs": [
    {
     "data": {
      "text/plain": [
       "title\n",
       "American Beauty (1999)                                   3211\n",
       "Star Wars: Episode IV - A New Hope (1977)                2910\n",
       "Star Wars: Episode V - The Empire Strikes Back (1980)    2885\n",
       "Star Wars: Episode VI - Return of the Jedi (1983)        2716\n",
       "Saving Private Ryan (1998)                               2561\n",
       "Terminator 2: Judgment Day (1991)                        2509\n",
       "Silence of the Lambs, The (1991)                         2498\n",
       "Raiders of the Lost Ark (1981)                           2473\n",
       "Back to the Future (1985)                                2460\n",
       "Matrix, The (1999)                                       2434\n",
       "Jurassic Park (1993)                                     2413\n",
       "Sixth Sense, The (1999)                                  2385\n",
       "Fargo (1996)                                             2371\n",
       "Braveheart (1995)                                        2314\n",
       "Men in Black (1997)                                      2297\n",
       "Schindler's List (1993)                                  2257\n",
       "Princess Bride, The (1987)                               2252\n",
       "Shakespeare in Love (1998)                               2213\n",
       "L.A. Confidential (1997)                                 2210\n",
       "Shawshank Redemption, The (1994)                         2194\n",
       "Godfather, The (1972)                                    2167\n",
       "Groundhog Day (1993)                                     2121\n",
       "E.T. the Extra-Terrestrial (1982)                        2102\n",
       "Being John Malkovich (1999)                              2066\n",
       "Ghostbusters (1984)                                      2051\n",
       "Pulp Fiction (1994)                                      2030\n",
       "Forrest Gump (1994)                                      2022\n",
       "Terminator, The (1984)                                   2019\n",
       "Toy Story (1995)                                         2000\n",
       "Fugitive, The (1993)                                     1941\n",
       "Name: counts, dtype: int64"
      ]
     },
     "execution_count": 9,
     "metadata": {},
     "output_type": "execute_result"
    }
   ],
   "source": [
    "movie_count = ratings.groupby('title')['counts'].count()\n",
    "movie_count.sort_values(ascending=False).head(30)"
   ]
  },
  {
   "cell_type": "markdown",
   "id": "ad354ea5",
   "metadata": {},
   "source": [
    "#### 개인선호도 반영"
   ]
  },
  {
   "cell_type": "code",
   "execution_count": 10,
   "id": "c865c52b",
   "metadata": {},
   "outputs": [
    {
     "data": {
      "text/html": [
       "<div>\n",
       "<style scoped>\n",
       "    .dataframe tbody tr th:only-of-type {\n",
       "        vertical-align: middle;\n",
       "    }\n",
       "\n",
       "    .dataframe tbody tr th {\n",
       "        vertical-align: top;\n",
       "    }\n",
       "\n",
       "    .dataframe thead th {\n",
       "        text-align: right;\n",
       "    }\n",
       "</style>\n",
       "<table border=\"1\" class=\"dataframe\">\n",
       "  <thead>\n",
       "    <tr style=\"text-align: right;\">\n",
       "      <th></th>\n",
       "      <th>user_id</th>\n",
       "      <th>movie_id</th>\n",
       "      <th>counts</th>\n",
       "      <th>timestamp</th>\n",
       "      <th>title</th>\n",
       "    </tr>\n",
       "  </thead>\n",
       "  <tbody>\n",
       "    <tr>\n",
       "      <th>836473</th>\n",
       "      <td>6040</td>\n",
       "      <td>1090.0</td>\n",
       "      <td>3</td>\n",
       "      <td>956715518.0</td>\n",
       "      <td>Platoon (1986)</td>\n",
       "    </tr>\n",
       "    <tr>\n",
       "      <th>836474</th>\n",
       "      <td>6040</td>\n",
       "      <td>1094.0</td>\n",
       "      <td>5</td>\n",
       "      <td>956704887.0</td>\n",
       "      <td>Crying Game, The (1992)</td>\n",
       "    </tr>\n",
       "    <tr>\n",
       "      <th>836475</th>\n",
       "      <td>6040</td>\n",
       "      <td>562.0</td>\n",
       "      <td>5</td>\n",
       "      <td>956704746.0</td>\n",
       "      <td>Welcome to the Dollhouse (1995)</td>\n",
       "    </tr>\n",
       "    <tr>\n",
       "      <th>836476</th>\n",
       "      <td>6040</td>\n",
       "      <td>1096.0</td>\n",
       "      <td>4</td>\n",
       "      <td>956715648.0</td>\n",
       "      <td>Sophie's Choice (1982)</td>\n",
       "    </tr>\n",
       "    <tr>\n",
       "      <th>836477</th>\n",
       "      <td>6040</td>\n",
       "      <td>1097.0</td>\n",
       "      <td>4</td>\n",
       "      <td>956715569.0</td>\n",
       "      <td>E.T. the Extra-Terrestrial (1982)</td>\n",
       "    </tr>\n",
       "    <tr>\n",
       "      <th>0</th>\n",
       "      <td>test</td>\n",
       "      <td>NaN</td>\n",
       "      <td>5</td>\n",
       "      <td>NaN</td>\n",
       "      <td>Fargo</td>\n",
       "    </tr>\n",
       "    <tr>\n",
       "      <th>1</th>\n",
       "      <td>test</td>\n",
       "      <td>NaN</td>\n",
       "      <td>5</td>\n",
       "      <td>NaN</td>\n",
       "      <td>Matrix</td>\n",
       "    </tr>\n",
       "    <tr>\n",
       "      <th>2</th>\n",
       "      <td>test</td>\n",
       "      <td>NaN</td>\n",
       "      <td>5</td>\n",
       "      <td>NaN</td>\n",
       "      <td>get out</td>\n",
       "    </tr>\n",
       "    <tr>\n",
       "      <th>3</th>\n",
       "      <td>test</td>\n",
       "      <td>NaN</td>\n",
       "      <td>5</td>\n",
       "      <td>NaN</td>\n",
       "      <td>inception</td>\n",
       "    </tr>\n",
       "    <tr>\n",
       "      <th>4</th>\n",
       "      <td>test</td>\n",
       "      <td>NaN</td>\n",
       "      <td>5</td>\n",
       "      <td>NaN</td>\n",
       "      <td>gravity</td>\n",
       "    </tr>\n",
       "  </tbody>\n",
       "</table>\n",
       "</div>"
      ],
      "text/plain": [
       "       user_id  movie_id  counts    timestamp  \\\n",
       "836473    6040    1090.0       3  956715518.0   \n",
       "836474    6040    1094.0       5  956704887.0   \n",
       "836475    6040     562.0       5  956704746.0   \n",
       "836476    6040    1096.0       4  956715648.0   \n",
       "836477    6040    1097.0       4  956715569.0   \n",
       "0         test       NaN       5          NaN   \n",
       "1         test       NaN       5          NaN   \n",
       "2         test       NaN       5          NaN   \n",
       "3         test       NaN       5          NaN   \n",
       "4         test       NaN       5          NaN   \n",
       "\n",
       "                                    title  \n",
       "836473                     Platoon (1986)  \n",
       "836474            Crying Game, The (1992)  \n",
       "836475    Welcome to the Dollhouse (1995)  \n",
       "836476             Sophie's Choice (1982)  \n",
       "836477  E.T. the Extra-Terrestrial (1982)  \n",
       "0                                   Fargo  \n",
       "1                                  Matrix  \n",
       "2                                 get out  \n",
       "3                               inception  \n",
       "4                                 gravity  "
      ]
     },
     "execution_count": 10,
     "metadata": {},
     "output_type": "execute_result"
    }
   ],
   "source": [
    "# 선호영화 5개 \n",
    "\n",
    "my_favorite = ['Fargo', 'Matrix', 'get out' , 'inception', 'gravity']\n",
    "my_list = pd.DataFrame({'user_id':['test']*5, 'title':my_favorite, 'counts':[5]*5})\n",
    "\n",
    "if not ratings.isin({'user_id':['test']})['user_id'].any():\n",
    "    ratings = ratings.append(my_list)\n",
    "\n",
    "ratings.tail(10)    "
   ]
  },
  {
   "cell_type": "markdown",
   "id": "291f5725",
   "metadata": {},
   "source": [
    "#### 사용자, 영화제목을 중복을 배제하고 index를 매핑"
   ]
  },
  {
   "cell_type": "code",
   "execution_count": 11,
   "id": "e97f363c",
   "metadata": {},
   "outputs": [],
   "source": [
    "# 유저, 영화제목 기준 중복 제거\n",
    "user_unique = ratings['user_id'].unique()\n",
    "movie_unique = ratings['title'].unique()\n",
    "\n",
    "user_to_idx = {v:k for k,v in enumerate(user_unique)}\n",
    "movie_to_idx = {v:k for k,v in enumerate(movie_unique)}"
   ]
  },
  {
   "cell_type": "markdown",
   "id": "2fb30530",
   "metadata": {},
   "source": [
    "#### 사용자 id를 중복배제한 후 indexing한 데이터로 대체 "
   ]
  },
  {
   "cell_type": "code",
   "execution_count": 12,
   "id": "3db9e9ab",
   "metadata": {},
   "outputs": [
    {
     "name": "stdout",
     "output_type": "stream",
     "text": [
      "user_id column indexing OK!!\n"
     ]
    }
   ],
   "source": [
    "temp_user_data = ratings['user_id'].map(user_to_idx.get).dropna()\n",
    "temp_user_data\n",
    "\n",
    "if len(temp_user_data) == len(ratings):   # 모든 row가 정상적으로 인덱싱되었다면\n",
    "    print('user_id column indexing OK!!')\n",
    "    ratings['user_id'] = temp_user_data   # data['user_id']을 인덱싱된 Series로 교체해 줍니다. \n",
    "else:\n",
    "    print('user_id column indexing Fail!!')\n",
    "    "
   ]
  },
  {
   "cell_type": "markdown",
   "id": "9c1d6cdf",
   "metadata": {},
   "source": [
    "##### 사용자id를 indexing한 데이터"
   ]
  },
  {
   "cell_type": "code",
   "execution_count": 13,
   "id": "1da0a9d2",
   "metadata": {},
   "outputs": [
    {
     "data": {
      "text/plain": [
       "0       0\n",
       "1       0\n",
       "2       0\n",
       "3       0\n",
       "4       0\n",
       "     ... \n",
       "0    6039\n",
       "1    6039\n",
       "2    6039\n",
       "3    6039\n",
       "4    6039\n",
       "Name: user_id, Length: 836483, dtype: int64"
      ]
     },
     "execution_count": 13,
     "metadata": {},
     "output_type": "execute_result"
    }
   ],
   "source": [
    "temp_user_data"
   ]
  },
  {
   "cell_type": "markdown",
   "id": "67ef9925",
   "metadata": {},
   "source": [
    "#### 영화ID칼럼을 기존 영화id칼럼에서 제목을 기준으로 indexing한 데이터로 대체 (3632건)"
   ]
  },
  {
   "cell_type": "code",
   "execution_count": 14,
   "id": "7f884c28",
   "metadata": {},
   "outputs": [
    {
     "name": "stdout",
     "output_type": "stream",
     "text": [
      "movie_id column indexing OK!!\n"
     ]
    }
   ],
   "source": [
    "temp_movie_data = ratings['title'].map(movie_to_idx.get).dropna()\n",
    "if len(temp_movie_data) == len(ratings):   # 모든 row가 정상적으로 인덱싱되었다면\n",
    "    print('movie_id column indexing OK!!')\n",
    "    ratings['movie_id'] = temp_movie_data   # data['user_id']을 인덱싱된 Series로 교체해 줍니다. \n",
    "else:\n",
    "    print('movie_id column indexing Fail!!')"
   ]
  },
  {
   "cell_type": "markdown",
   "id": "a2e1aa06",
   "metadata": {},
   "source": [
    "##### 영화제목을 중복배제하고 indexing한 데이터 "
   ]
  },
  {
   "cell_type": "code",
   "execution_count": 15,
   "id": "a1012fb1",
   "metadata": {},
   "outputs": [
    {
     "data": {
      "text/plain": [
       "0       0\n",
       "1       1\n",
       "2       2\n",
       "3       3\n",
       "4       4\n",
       "     ... \n",
       "0    3628\n",
       "1    3629\n",
       "2    3630\n",
       "3    3631\n",
       "4    3632\n",
       "Name: title, Length: 836483, dtype: int64"
      ]
     },
     "execution_count": 15,
     "metadata": {},
     "output_type": "execute_result"
    }
   ],
   "source": [
    "temp_movie_data"
   ]
  },
  {
   "cell_type": "markdown",
   "id": "62685ea9",
   "metadata": {},
   "source": [
    "#### user_id와 Movie_id는 index역할을 하며 실제 데이터는 타이틀과 사용자 ID임"
   ]
  },
  {
   "cell_type": "code",
   "execution_count": 16,
   "id": "7eb7fd98",
   "metadata": {
    "scrolled": false
   },
   "outputs": [
    {
     "data": {
      "text/html": [
       "<div>\n",
       "<style scoped>\n",
       "    .dataframe tbody tr th:only-of-type {\n",
       "        vertical-align: middle;\n",
       "    }\n",
       "\n",
       "    .dataframe tbody tr th {\n",
       "        vertical-align: top;\n",
       "    }\n",
       "\n",
       "    .dataframe thead th {\n",
       "        text-align: right;\n",
       "    }\n",
       "</style>\n",
       "<table border=\"1\" class=\"dataframe\">\n",
       "  <thead>\n",
       "    <tr style=\"text-align: right;\">\n",
       "      <th></th>\n",
       "      <th>user_id</th>\n",
       "      <th>movie_id</th>\n",
       "      <th>counts</th>\n",
       "      <th>timestamp</th>\n",
       "      <th>title</th>\n",
       "    </tr>\n",
       "  </thead>\n",
       "  <tbody>\n",
       "    <tr>\n",
       "      <th>0</th>\n",
       "      <td>0</td>\n",
       "      <td>0</td>\n",
       "      <td>5</td>\n",
       "      <td>978300760.0</td>\n",
       "      <td>One Flew Over the Cuckoo's Nest (1975)</td>\n",
       "    </tr>\n",
       "    <tr>\n",
       "      <th>1</th>\n",
       "      <td>0</td>\n",
       "      <td>1</td>\n",
       "      <td>3</td>\n",
       "      <td>978302109.0</td>\n",
       "      <td>James and the Giant Peach (1996)</td>\n",
       "    </tr>\n",
       "    <tr>\n",
       "      <th>2</th>\n",
       "      <td>0</td>\n",
       "      <td>2</td>\n",
       "      <td>3</td>\n",
       "      <td>978301968.0</td>\n",
       "      <td>My Fair Lady (1964)</td>\n",
       "    </tr>\n",
       "    <tr>\n",
       "      <th>3</th>\n",
       "      <td>0</td>\n",
       "      <td>3</td>\n",
       "      <td>4</td>\n",
       "      <td>978300275.0</td>\n",
       "      <td>Erin Brockovich (2000)</td>\n",
       "    </tr>\n",
       "    <tr>\n",
       "      <th>4</th>\n",
       "      <td>0</td>\n",
       "      <td>4</td>\n",
       "      <td>5</td>\n",
       "      <td>978824291.0</td>\n",
       "      <td>Bug's Life, A (1998)</td>\n",
       "    </tr>\n",
       "    <tr>\n",
       "      <th>...</th>\n",
       "      <td>...</td>\n",
       "      <td>...</td>\n",
       "      <td>...</td>\n",
       "      <td>...</td>\n",
       "      <td>...</td>\n",
       "    </tr>\n",
       "    <tr>\n",
       "      <th>0</th>\n",
       "      <td>6039</td>\n",
       "      <td>3628</td>\n",
       "      <td>5</td>\n",
       "      <td>NaN</td>\n",
       "      <td>Fargo</td>\n",
       "    </tr>\n",
       "    <tr>\n",
       "      <th>1</th>\n",
       "      <td>6039</td>\n",
       "      <td>3629</td>\n",
       "      <td>5</td>\n",
       "      <td>NaN</td>\n",
       "      <td>Matrix</td>\n",
       "    </tr>\n",
       "    <tr>\n",
       "      <th>2</th>\n",
       "      <td>6039</td>\n",
       "      <td>3630</td>\n",
       "      <td>5</td>\n",
       "      <td>NaN</td>\n",
       "      <td>get out</td>\n",
       "    </tr>\n",
       "    <tr>\n",
       "      <th>3</th>\n",
       "      <td>6039</td>\n",
       "      <td>3631</td>\n",
       "      <td>5</td>\n",
       "      <td>NaN</td>\n",
       "      <td>inception</td>\n",
       "    </tr>\n",
       "    <tr>\n",
       "      <th>4</th>\n",
       "      <td>6039</td>\n",
       "      <td>3632</td>\n",
       "      <td>5</td>\n",
       "      <td>NaN</td>\n",
       "      <td>gravity</td>\n",
       "    </tr>\n",
       "  </tbody>\n",
       "</table>\n",
       "<p>836483 rows × 5 columns</p>\n",
       "</div>"
      ],
      "text/plain": [
       "    user_id  movie_id  counts    timestamp  \\\n",
       "0         0         0       5  978300760.0   \n",
       "1         0         1       3  978302109.0   \n",
       "2         0         2       3  978301968.0   \n",
       "3         0         3       4  978300275.0   \n",
       "4         0         4       5  978824291.0   \n",
       "..      ...       ...     ...          ...   \n",
       "0      6039      3628       5          NaN   \n",
       "1      6039      3629       5          NaN   \n",
       "2      6039      3630       5          NaN   \n",
       "3      6039      3631       5          NaN   \n",
       "4      6039      3632       5          NaN   \n",
       "\n",
       "                                     title  \n",
       "0   One Flew Over the Cuckoo's Nest (1975)  \n",
       "1         James and the Giant Peach (1996)  \n",
       "2                      My Fair Lady (1964)  \n",
       "3                   Erin Brockovich (2000)  \n",
       "4                     Bug's Life, A (1998)  \n",
       "..                                     ...  \n",
       "0                                    Fargo  \n",
       "1                                   Matrix  \n",
       "2                                  get out  \n",
       "3                                inception  \n",
       "4                                  gravity  \n",
       "\n",
       "[836483 rows x 5 columns]"
      ]
     },
     "execution_count": 16,
     "metadata": {},
     "output_type": "execute_result"
    }
   ],
   "source": [
    "ratings"
   ]
  },
  {
   "cell_type": "markdown",
   "id": "b53573fb",
   "metadata": {},
   "source": [
    "세로축은 사용자ID에 대한 index 가로축은 영화제목에 대한 index를 기준으로 pivoting( 6040 * 3633 )"
   ]
  },
  {
   "cell_type": "code",
   "execution_count": 17,
   "id": "e56232f5",
   "metadata": {},
   "outputs": [
    {
     "data": {
      "text/plain": [
       "<6040x3633 sparse matrix of type '<class 'numpy.int64'>'\n",
       "\twith 836483 stored elements in Compressed Sparse Row format>"
      ]
     },
     "execution_count": 17,
     "metadata": {},
     "output_type": "execute_result"
    }
   ],
   "source": [
    "# 실습 위에 설명보고 이해해서 만들어보기\n",
    "from scipy.sparse import csr_matrix\n",
    "\n",
    "num_user = ratings['user_id'].nunique()\n",
    "num_movies = ratings['movie_id'].nunique()\n",
    "\n",
    "csr_data = csr_matrix((ratings['counts'], (ratings.user_id, ratings.movie_id)), shape=(num_user, num_movies))\n",
    "csr_data\n"
   ]
  },
  {
   "cell_type": "code",
   "execution_count": 18,
   "id": "901a17e0",
   "metadata": {},
   "outputs": [],
   "source": [
    "from implicit.als import AlternatingLeastSquares\n",
    "import os\n",
    "import numpy as np\n",
    "\n",
    "# implicit 라이브러리에서 권장하고 있는 부분입니다. \n",
    "os.environ['OPENBLAS_NUM_THREADS']='1'\n",
    "os.environ['KMP_DUPLICATE_LIB_OK']='True'\n",
    "os.environ['MKL_NUM_THREADS']='1'\n",
    "\n",
    "# Implicit AlternatingLeastSquares 모델의 선언\n",
    "# 1. factors : 유저와 아이템의 벡터를 몇 차원으로 할 것인지\n",
    "# 2. regularization : 과적합을 방지하기 위해 정규화 값을 얼마나 사용할 것인지 \n",
    "# 3. use_gpu : GPU를 사용할 것인지 \n",
    "# 4. iterations : epochs와 같은 의미입니다.\n",
    "als_model = AlternatingLeastSquares(factors=100, regularization=0.001, use_gpu=False, iterations=100, dtype=np.float32)"
   ]
  },
  {
   "cell_type": "code",
   "execution_count": 19,
   "id": "34ddc8af",
   "metadata": {},
   "outputs": [
    {
     "data": {
      "text/plain": [
       "<3633x6040 sparse matrix of type '<class 'numpy.int64'>'\n",
       "\twith 836483 stored elements in Compressed Sparse Column format>"
      ]
     },
     "execution_count": 19,
     "metadata": {},
     "output_type": "execute_result"
    }
   ],
   "source": [
    "# als 모델은 input으로 (item X user 꼴의 matrix를 받기 때문에 Transpose해줍니다.)\n",
    "csr_data_transpose = csr_data.T\n",
    "csr_data_transpose"
   ]
  },
  {
   "cell_type": "code",
   "execution_count": 20,
   "id": "43a5e5f8",
   "metadata": {
    "scrolled": true
   },
   "outputs": [
    {
     "data": {
      "application/vnd.jupyter.widget-view+json": {
       "model_id": "040e347cfd8644d7b501355dbbbe9142",
       "version_major": 2,
       "version_minor": 0
      },
      "text/plain": [
       "  0%|          | 0/100 [00:00<?, ?it/s]"
      ]
     },
     "metadata": {},
     "output_type": "display_data"
    }
   ],
   "source": [
    "# 모델 훈련\n",
    "als_model.fit(csr_data_transpose)"
   ]
  },
  {
   "cell_type": "code",
   "execution_count": 21,
   "id": "04f49e96",
   "metadata": {},
   "outputs": [],
   "source": [
    "kbc, inception = user_to_idx['test'], movie_to_idx['Fargo']\n",
    "kbc_vector, inception_vector = als_model.user_factors[kbc], als_model.item_factors[inception]\n"
   ]
  },
  {
   "cell_type": "code",
   "execution_count": 22,
   "id": "8e9dfdda",
   "metadata": {},
   "outputs": [
    {
     "data": {
      "text/plain": [
       "1.7693739e-14"
      ]
     },
     "execution_count": 22,
     "metadata": {},
     "output_type": "execute_result"
    }
   ],
   "source": [
    "# 내적하는 코드\n",
    "np.dot(kbc_vector, inception_vector)"
   ]
  },
  {
   "cell_type": "code",
   "execution_count": 23,
   "id": "e66c538b",
   "metadata": {},
   "outputs": [
    {
     "data": {
      "text/plain": [
       "4.4956616e-14"
      ]
     },
     "execution_count": 23,
     "metadata": {},
     "output_type": "execute_result"
    }
   ],
   "source": [
    "getout = movie_to_idx['get out']\n",
    "getout_vector = als_model.item_factors[getout]\n",
    "np.dot(kbc_vector, getout_vector)"
   ]
  },
  {
   "cell_type": "code",
   "execution_count": 24,
   "id": "b8108d08",
   "metadata": {},
   "outputs": [
    {
     "data": {
      "text/plain": [
       "[(3629, 1.0),\n",
       " (3631, 0.9986594),\n",
       " (3632, 0.9985732),\n",
       " (3630, 0.998209),\n",
       " (3628, 0.9931925),\n",
       " (3579, 0.9662137),\n",
       " (3575, 0.96621263),\n",
       " (3578, 0.9662109),\n",
       " (3576, 0.96621054),\n",
       " (3574, 0.9662084),\n",
       " (3572, 0.9662014),\n",
       " (3583, 0.96620136),\n",
       " (3573, 0.96619976),\n",
       " (3580, 0.96619946),\n",
       " (3577, 0.96619725)]"
      ]
     },
     "execution_count": 24,
     "metadata": {},
     "output_type": "execute_result"
    }
   ],
   "source": [
    "# (id, 유사도 )\n",
    "favorite_movie = 'Matrix'\n",
    "movie_id = movie_to_idx[favorite_movie]\n",
    "similar_movie = als_model.similar_items(movie_id, N=15)\n",
    "similar_movie"
   ]
  },
  {
   "cell_type": "markdown",
   "id": "a0672129",
   "metadata": {},
   "source": [
    "items() 함수를 호출하여 Dictionary형태의 데이터형으로 변환"
   ]
  },
  {
   "cell_type": "code",
   "execution_count": 25,
   "id": "d89c4c07",
   "metadata": {},
   "outputs": [],
   "source": [
    "#artist_to_idx 를 뒤집어, index로부터 artist 이름을 얻는 dict를 생성합니다. \n",
    "idx_to_movie = {v:k for k,v in movie_to_idx.items()}"
   ]
  },
  {
   "cell_type": "code",
   "execution_count": 26,
   "id": "0ac94ec1",
   "metadata": {},
   "outputs": [
    {
     "name": "stdout",
     "output_type": "stream",
     "text": [
      "슝=3\n"
     ]
    }
   ],
   "source": [
    "# 비슷한 영화 이름 검색 함수\n",
    "def get_similar_movie(movie_name: str):\n",
    "    movie_id = movie_to_idx[movie_name]\n",
    "    similar_movie = als_model.similar_items(movie_id)\n",
    "    similar_movie = [idx_to_movie[i[0]] for i in similar_movie]\n",
    "    return similar_movie\n",
    "\n",
    "print(\"슝=3\")"
   ]
  },
  {
   "cell_type": "code",
   "execution_count": 27,
   "id": "548824b8",
   "metadata": {},
   "outputs": [
    {
     "data": {
      "text/plain": [
       "['Matrix',\n",
       " 'inception',\n",
       " 'gravity',\n",
       " 'get out',\n",
       " 'Fargo',\n",
       " 'Last of the High Kings, The (a.k.a. Summer Fling) (1996)',\n",
       " \"Brother's Kiss, A (1997)\",\n",
       " 'Number Seventeen (1932)',\n",
       " 'War at Home, The (1996)',\n",
       " 'Century (1993)']"
      ]
     },
     "execution_count": 27,
     "metadata": {},
     "output_type": "execute_result"
    }
   ],
   "source": [
    "get_similar_movie('Matrix')"
   ]
  },
  {
   "cell_type": "code",
   "execution_count": 28,
   "id": "ea42dd85",
   "metadata": {},
   "outputs": [
    {
     "data": {
      "text/plain": [
       "[(953, 4.626397e-08),\n",
       " (22, 4.5547054e-08),\n",
       " (476, 4.375514e-08),\n",
       " (26, 4.1678653e-08),\n",
       " (29, 4.126872e-08),\n",
       " (2286, 4.075807e-08),\n",
       " (2609, 4.031739e-08),\n",
       " (1508, 4.0045332e-08),\n",
       " (107, 3.9165666e-08),\n",
       " (2331, 3.7938015e-08),\n",
       " (2229, 3.738851e-08),\n",
       " (2129, 3.7198756e-08),\n",
       " (2661, 3.7112738e-08),\n",
       " (361, 3.7062357e-08),\n",
       " (2376, 3.6810597e-08),\n",
       " (3050, 3.6514336e-08),\n",
       " (470, 3.6145842e-08),\n",
       " (504, 3.6096434e-08),\n",
       " (238, 3.5808878e-08),\n",
       " (2239, 3.4932427e-08),\n",
       " (13, 3.487571e-08),\n",
       " (258, 3.470563e-08),\n",
       " (2095, 3.4505366e-08),\n",
       " (2044, 3.389316e-08),\n",
       " (2593, 3.38558e-08),\n",
       " (296, 3.379309e-08),\n",
       " (869, 3.3211748e-08),\n",
       " (480, 3.3072162e-08),\n",
       " (3309, 3.2962657e-08),\n",
       " (1393, 3.2879868e-08)]"
      ]
     },
     "execution_count": 28,
     "metadata": {},
     "output_type": "execute_result"
    }
   ],
   "source": [
    "user = user_to_idx['test']\n",
    "# recommend에서는 user*item CSR Matrix를 받습니다.\n",
    "movie_recommended = als_model.recommend(user, csr_data, N=30, filter_already_liked_items=False)\n",
    "movie_recommended"
   ]
  },
  {
   "cell_type": "code",
   "execution_count": 29,
   "id": "5b730e29",
   "metadata": {},
   "outputs": [
    {
     "data": {
      "text/plain": [
       "['Muppet Movie, The (1979)',\n",
       " 'Back to the Future (1985)',\n",
       " 'Wrong Trousers, The (1993)',\n",
       " 'E.T. the Extra-Terrestrial (1982)',\n",
       " 'Close Shave, A (1995)',\n",
       " 'Friday (1995)',\n",
       " 'Great White Hype, The (1996)',\n",
       " 'Fantasia 2000 (1999)',\n",
       " 'Jurassic Park (1993)',\n",
       " 'Walk on the Moon, A (1999)',\n",
       " 'Thieves (Voleurs, Les) (1996)',\n",
       " 'Character (Karakter) (1997)',\n",
       " 'Family Thing, A (1996)',\n",
       " 'Casablanca (1942)',\n",
       " 'Xiu Xiu: The Sent-Down Girl (Tian yu) (1998)',\n",
       " 'Jude (1996)',\n",
       " 'Swingers (1996)',\n",
       " 'Better Off Dead... (1985)',\n",
       " 'Thin Red Line, The (1998)',\n",
       " 'East-West (Est-ouest) (1999)',\n",
       " \"Ferris Bueller's Day Off (1986)\",\n",
       " 'Wild Reeds (1994)',\n",
       " 'Taking of Pelham One Two Three, The (1974)',\n",
       " 'Drunken Master (Zui quan) (1979)',\n",
       " 'My Favorite Season (1993)',\n",
       " 'Afterglow (1997)',\n",
       " 'Angel Baby (1995)',\n",
       " 'Grand Day Out, A (1992)',\n",
       " 'Hollow Reed (1996)',\n",
       " 'Paper Chase, The (1973)']"
      ]
     },
     "execution_count": 29,
     "metadata": {},
     "output_type": "execute_result"
    }
   ],
   "source": [
    "[idx_to_movie[i[0]] for i in movie_recommended]"
   ]
  },
  {
   "cell_type": "markdown",
   "id": "30a7075f",
   "metadata": {},
   "source": [
    "## 회고"
   ]
  },
  {
   "cell_type": "markdown",
   "id": "1509e05f",
   "metadata": {},
   "source": [
    "- process flow\n",
    "  . 데이터 다운로드 <br>\n",
    "  . 랭킹데이터 전처리 <br>\n",
    "  . 영화 데이터 다운로드 하여 평점정보와 병합하여 하나의 테이블로 매핑<br>\n",
    "  . 사용자id 인덱싱<br>\n",
    "  . 영화 타이틀 인덱싱<br>\n",
    "  . 영화id에 영화 타이틀 인덱싱으로 정보 변경<br>\n",
    "  . CSR matrix 작성<br>\n",
    "  . als_model의 입력으로 상품 * 유저형태( 버전별로 차이가 있음 0.6.2 버전에서는 다르게 동작 )<br>\n",
    "  . als model 모델 구성<br>\n",
    "  . 훈련<br>\n",
    "  . 추천시스템 확인<br>\n",
    "  . 사용자id 와 영화id를 자체 인덱싱하여 csr maxtrix로 pivoting하는 부분까지가 기존과 차이점으로 생각됨<br>\n",
    "<br>\n",
    "- 모델 비교<br>\n",
    "   .als_model 모델에 정규화 파라미터를 조정하는 경우 유사도 측정시 많은 차이점을 보임<br>\n",
    "<br>"
   ]
  }
 ],
 "metadata": {
  "kernelspec": {
   "display_name": "Python 3 (ipykernel)",
   "language": "python",
   "name": "python3"
  },
  "language_info": {
   "codemirror_mode": {
    "name": "ipython",
    "version": 3
   },
   "file_extension": ".py",
   "mimetype": "text/x-python",
   "name": "python",
   "nbconvert_exporter": "python",
   "pygments_lexer": "ipython3",
   "version": "3.9.7"
  }
 },
 "nbformat": 4,
 "nbformat_minor": 5
}
