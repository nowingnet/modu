{
 "cells": [
  {
   "cell_type": "markdown",
   "source": [],
   "metadata": {
    "collapsed": false,
    "pycharm": {
     "name": "#%% md\n"
    }
   }
  },
  {
   "cell_type": "markdown",
   "source": [
    "## 5. 인공지능과 가위바위보 하기"
   ],
   "metadata": {
    "collapsed": false,
    "pycharm": {
     "name": "#%% md\n"
    }
   }
  },
  {
   "cell_type": "markdown",
   "source": [
    "#### 필요 라이브러리 로드"
   ],
   "metadata": {
    "collapsed": false,
    "pycharm": {
     "name": "#%% md\n"
    }
   }
  },
  {
   "cell_type": "code",
   "execution_count": 54,
   "outputs": [],
   "source": [
    "import keras.models\n",
    "import tensorflow as tf\n",
    "import numpy as np\n",
    "from PIL import Image\n",
    "import glob\n",
    "import os"
   ],
   "metadata": {
    "collapsed": false,
    "pycharm": {
     "name": "#%%\n"
    }
   }
  },
  {
   "cell_type": "markdown",
   "source": [
    "#### 사진이미지 Resize( 28 * 28 )"
   ],
   "metadata": {
    "collapsed": false,
    "pycharm": {
     "name": "#%% md\n"
    }
   }
  },
  {
   "cell_type": "code",
   "execution_count": 46,
   "outputs": [
    {
     "name": "stdout",
     "output_type": "stream",
     "text": [
      "가위 이미지 resize완료\n",
      "보 이미지 resize완료\n",
      "바위 이미지 resize완료\n"
     ]
    }
   ],
   "source": [
    "def resize_images(img_path):\n",
    "    images =glob.glob(img_path + \"/*.jpg\")\n",
    "    print(len(images), \" images to be resized.\")\n",
    "\n",
    "    target_size = (28,28)\n",
    "    for img in images:\n",
    "        old_img = Image.open(img)\n",
    "        new_img = old_img.resize(target_size, Image.ANTIALIAS)\n",
    "        new_img.save(img, \"JPEG\")\n",
    "\n",
    "    print(len(images), \" images resized.\")\n",
    "\n",
    "image_dir_path = \"data/scissor\"\n",
    "#resize_images(image_dir_path)\n",
    "print(\"가위 이미지 resize완료\")\n",
    "\n",
    "image_dir_path = \"data/paper\"\n",
    "#resize_images(image_dir_path)\n",
    "print(\"보 이미지 resize완료\")\n",
    "\n",
    "image_dir_path = \"data/rock\"\n",
    "#resize_images(image_dir_path)\n",
    "print(\"바위 이미지 resize완료\")\n"
   ],
   "metadata": {
    "collapsed": false,
    "pycharm": {
     "name": "#%%\n"
    }
   }
  },
  {
   "cell_type": "markdown",
   "source": [
    "#### 훈련 데이터 셋 로드"
   ],
   "metadata": {
    "collapsed": false,
    "pycharm": {
     "name": "#%% md\n"
    }
   }
  },
  {
   "cell_type": "markdown",
   "source": [
    "#### 직접촬영 사진 300장 + 동료 촬영분 300장 추가하여 오버피팅을 회피하고자 함"
   ],
   "metadata": {
    "collapsed": false,
    "pycharm": {
     "name": "#%% md\n"
    }
   }
  },
  {
   "cell_type": "code",
   "execution_count": 157,
   "outputs": [
    {
     "name": "stdout",
     "output_type": "stream",
     "text": [
      "학습데이터(x_train)의 이미지 개수는 900 입니다.\n",
      "x_train shape: (900, 28, 28, 3)\n",
      "y_train shape: (900,)\n"
     ]
    }
   ],
   "source": [
    "import numpy as np\n",
    "\n",
    "def load_data(img_path, number_of_data=900):  # 가위바위보 이미지 개수 총합에 주의하세요.\n",
    "    # 가위 : 0, 바위 : 1, 보 : 2\n",
    "    img_size=28\n",
    "    color=3\n",
    "    #이미지 데이터와 라벨(가위 : 0, 바위 : 1, 보 : 2) 데이터를 담을 행렬(matrix) 영역을 생성합니다.\n",
    "    imgs=np.zeros(number_of_data*img_size*img_size*color,dtype=np.int32).reshape(number_of_data,img_size,img_size,color)\n",
    "    labels=np.zeros(number_of_data,dtype=np.int32)\n",
    "\n",
    "    idx=0\n",
    "    for file in glob.iglob(img_path+'data/scissor/*.jpg'):\n",
    "        img = np.array(Image.open(file),dtype=np.int32)\n",
    "        imgs[idx,:,:,:]=img    # 데이터 영역에 이미지 행렬을 복사\n",
    "        labels[idx]=0   # 가위 : 0\n",
    "        idx=idx+1\n",
    "    for file in glob.iglob(img_path+'data1/scissor/*.jpg'):\n",
    "        img = np.array(Image.open(file),dtype=np.int32)\n",
    "        imgs[idx,:,:,:]=img    # 데이터 영역에 이미지 행렬을 복사\n",
    "        labels[idx]=0   # 가위 : 0\n",
    "        idx=idx+1\n",
    "\n",
    "    for file in glob.iglob(img_path+'data2/scissor/*.jpg'):\n",
    "        img = np.array(Image.open(file),dtype=np.int32)\n",
    "        imgs[idx,:,:,:]=img    # 데이터 영역에 이미지 행렬을 복사\n",
    "        labels[idx]=0   # 가위 : 0\n",
    "        idx=idx+1\n",
    "\n",
    "    for file in glob.iglob(img_path+'data/rock/*.jpg'):\n",
    "        img = np.array(Image.open(file),dtype=np.int32)\n",
    "        imgs[idx,:,:,:]=img    # 데이터 영역에 이미지 행렬을 복사\n",
    "        labels[idx]=1   # 바위 : 1\n",
    "        idx=idx+1\n",
    "    for file in glob.iglob(img_path+'data1/rock/*.jpg'):\n",
    "        img = np.array(Image.open(file),dtype=np.int32)\n",
    "        imgs[idx,:,:,:]=img    # 데이터 영역에 이미지 행렬을 복사\n",
    "        labels[idx]=1   # 바위 : 1\n",
    "        idx=idx+1\n",
    "    for file in glob.iglob(img_path+'data2/rock/*.jpg'):\n",
    "        img = np.array(Image.open(file),dtype=np.int32)\n",
    "        imgs[idx,:,:,:]=img    # 데이터 영역에 이미지 행렬을 복사\n",
    "        labels[idx]=1   # 바위 : 1\n",
    "        idx=idx+1\n",
    "\n",
    "    for file in glob.iglob(img_path+'data/paper/*.jpg'):\n",
    "        img = np.array(Image.open(file),dtype=np.int32)\n",
    "        imgs[idx,:,:,:]=img    # 데이터 영역에 이미지 행렬을 복사\n",
    "        labels[idx]=2   # 보 : 2\n",
    "        idx=idx+1\n",
    "    for file in glob.iglob(img_path+'data1/paper/*.jpg'):\n",
    "        img = np.array(Image.open(file),dtype=np.int32)\n",
    "        imgs[idx,:,:,:]=img    # 데이터 영역에 이미지 행렬을 복사\n",
    "        labels[idx]=2   # 보 : 2\n",
    "        idx=idx+1\n",
    "    for file in glob.iglob(img_path+'data2/paper/*.jpg'):\n",
    "        img = np.array(Image.open(file),dtype=np.int32)\n",
    "        imgs[idx,:,:,:]=img    # 데이터 영역에 이미지 행렬을 복사\n",
    "        labels[idx]=2   # 보 : 2\n",
    "        idx=idx+1\n",
    "\n",
    "    print(\"학습데이터(x_train)의 이미지 개수는\", idx,\"입니다.\")\n",
    "    return imgs, labels\n",
    "\n",
    "image_dir_path = \"\"\n",
    "(x_train, y_train)=load_data(image_dir_path)\n",
    "x_train_norm = x_train/255.0   # 입력은 0~1 사이의 값으로 정규화\n",
    "\n",
    "print(\"x_train shape: {}\".format(x_train.shape))\n",
    "print(\"y_train shape: {}\".format(y_train.shape))"
   ],
   "metadata": {
    "collapsed": false,
    "pycharm": {
     "name": "#%%\n"
    }
   }
  },
  {
   "cell_type": "markdown",
   "source": [
    "#### 모델 생성"
   ],
   "metadata": {
    "collapsed": false,
    "pycharm": {
     "name": "#%% md\n"
    }
   }
  },
  {
   "cell_type": "code",
   "execution_count": 180,
   "outputs": [],
   "source": [
    "model = keras.models.Sequential()\n",
    "model.add(keras.layers.Conv2D(32,(3,3), activation='relu', input_shape=(28,28,3)))\n",
    "model.add(keras.layers.MaxPool2D(2,2))\n",
    "model.add(keras.layers.Conv2D(64,(3,3), activation='relu'))\n",
    "model.add(keras.layers.MaxPooling2D((2,2)))\n",
    "model.add(keras.layers.Conv2D(128,(2,2), activation='relu'))\n",
    "model.add(keras.layers.MaxPooling2D((4,4)))\n",
    "model.add(keras.layers.Flatten())\n",
    "model.add(keras.layers.Dense(32, activation='relu'))\n",
    "model.add(keras.layers.Dense(3, activation='softmax'))\n",
    "\n",
    "#model.summary()"
   ],
   "metadata": {
    "collapsed": false,
    "pycharm": {
     "name": "#%%\n"
    }
   }
  },
  {
   "cell_type": "markdown",
   "source": [
    "#### 모델 train"
   ],
   "metadata": {
    "collapsed": false,
    "pycharm": {
     "name": "#%% md\n"
    }
   }
  },
  {
   "cell_type": "code",
   "execution_count": 181,
   "outputs": [
    {
     "name": "stdout",
     "output_type": "stream",
     "text": [
      "Epoch 1/20\n",
      "29/29 [==============================] - 1s 10ms/step - loss: 1.0973 - accuracy: 0.3500\n",
      "Epoch 2/20\n",
      "29/29 [==============================] - 0s 10ms/step - loss: 1.0787 - accuracy: 0.3933\n",
      "Epoch 3/20\n",
      "29/29 [==============================] - 0s 10ms/step - loss: 0.9991 - accuracy: 0.5289\n",
      "Epoch 4/20\n",
      "29/29 [==============================] - 0s 10ms/step - loss: 0.8162 - accuracy: 0.6767\n",
      "Epoch 5/20\n",
      "29/29 [==============================] - 0s 10ms/step - loss: 0.6399 - accuracy: 0.7411\n",
      "Epoch 6/20\n",
      "29/29 [==============================] - 0s 9ms/step - loss: 0.5142 - accuracy: 0.7878\n",
      "Epoch 7/20\n",
      "29/29 [==============================] - 0s 9ms/step - loss: 0.4107 - accuracy: 0.8333\n",
      "Epoch 8/20\n",
      "29/29 [==============================] - 0s 9ms/step - loss: 0.3766 - accuracy: 0.8533\n",
      "Epoch 9/20\n",
      "29/29 [==============================] - 0s 9ms/step - loss: 0.3185 - accuracy: 0.8700\n",
      "Epoch 10/20\n",
      "29/29 [==============================] - 0s 9ms/step - loss: 0.3260 - accuracy: 0.8544\n",
      "Epoch 11/20\n",
      "29/29 [==============================] - 0s 9ms/step - loss: 0.2920 - accuracy: 0.8756\n",
      "Epoch 12/20\n",
      "29/29 [==============================] - 0s 9ms/step - loss: 0.2810 - accuracy: 0.8800\n",
      "Epoch 13/20\n",
      "29/29 [==============================] - 0s 9ms/step - loss: 0.2337 - accuracy: 0.9156\n",
      "Epoch 14/20\n",
      "29/29 [==============================] - 0s 9ms/step - loss: 0.2228 - accuracy: 0.9089\n",
      "Epoch 15/20\n",
      "29/29 [==============================] - 0s 9ms/step - loss: 0.2038 - accuracy: 0.9333\n",
      "Epoch 16/20\n",
      "29/29 [==============================] - 0s 9ms/step - loss: 0.1961 - accuracy: 0.9278\n",
      "Epoch 17/20\n",
      "29/29 [==============================] - 0s 9ms/step - loss: 0.1787 - accuracy: 0.9356\n",
      "Epoch 18/20\n",
      "29/29 [==============================] - 0s 9ms/step - loss: 0.1602 - accuracy: 0.9489\n",
      "Epoch 19/20\n",
      "29/29 [==============================] - 0s 9ms/step - loss: 0.1314 - accuracy: 0.9567\n",
      "Epoch 20/20\n",
      "29/29 [==============================] - 0s 9ms/step - loss: 0.1326 - accuracy: 0.9533\n"
     ]
    }
   ],
   "source": [
    "x_train_reshaped=x_train_norm.reshape( -1, 28, 28, 3)  # 데이터갯수에 -1을 쓰면 reshape시 자동계산됩니다.\n",
    "opt = keras.optimizers.Adam(learning_rate=1e-3)\n",
    "\n",
    "model.compile(optimizer=opt,\n",
    "              loss='sparse_categorical_crossentropy',\n",
    "             metrics=['accuracy']\n",
    "              )\n",
    "hist = model.fit(x_train_reshaped, y_train,  epochs=20)"
   ],
   "metadata": {
    "collapsed": false,
    "pycharm": {
     "name": "#%%\n"
    }
   }
  },
  {
   "cell_type": "markdown",
   "source": [
    "#### 훈련결과 시각화"
   ],
   "metadata": {
    "collapsed": false,
    "pycharm": {
     "name": "#%% md\n"
    }
   }
  },
  {
   "cell_type": "code",
   "execution_count": 81,
   "outputs": [
    {
     "data": {
      "text/plain": "<Figure size 640x480 with 2 Axes>",
      "image/png": "[encoded data removed]"
     },
     "metadata": {},
     "output_type": "display_data"
    }
   ],
   "source": [
    "\n",
    "# 5. 모델 학습과정 표시하기\n",
    "%matplotlib inline\n",
    "from matplotlib import font_manager\n",
    "import matplotlib.pyplot as plt\n",
    "import matplotlib as mpl\n",
    "\n",
    "plt.rc('font',family='NanumGothic')\n",
    "\n",
    "fig, loss_ax = plt.subplots()\n",
    "acc_ax = loss_ax.twinx()\n",
    "\n",
    "loss_ax.plot(hist.history['loss'], 'y', label = 'train loss')\n",
    "#loss_ax.plot(hist.history['val_loss'], 'r', label = 'val loss')\n",
    "\n",
    "acc_ax.plot(hist.history['accuracy'], 'b', label = 'train accuracy')\n",
    "#acc_ax.plot(hist.history['val_accuracy'], 'g', label = 'valid accuracy')\n",
    "\n",
    "loss_ax.set_xlabel('epoch')\n",
    "loss_ax.set_ylabel('loss')\n",
    "acc_ax.set_ylabel('accuracy')\n",
    "\n",
    "loss_ax.legend(loc='upper left')\n",
    "acc_ax.legend(loc='lower left')\n",
    "plt.show()"
   ],
   "metadata": {
    "collapsed": false,
    "pycharm": {
     "name": "#%%\n"
    }
   }
  },
  {
   "cell_type": "markdown",
   "source": [
    "#### 테스트 데이터 셋 로드"
   ],
   "metadata": {
    "collapsed": false,
    "pycharm": {
     "name": "#%% md\n"
    }
   }
  },
  {
   "cell_type": "code",
   "execution_count": 107,
   "outputs": [
    {
     "name": "stdout",
     "output_type": "stream",
     "text": [
      "학습데이터(x_train)의 이미지 개수는 300 입니다.\n",
      "x_test shape: (300, 28, 28, 3)\n",
      "y_test shape: (300,)\n"
     ]
    }
   ],
   "source": [
    "import numpy as np\n",
    "\n",
    "def load_test_data(img_path, number_of_data=300):  # 가위바위보 이미지 개수 총합에 주의하세요.\n",
    "    # 가위 : 0, 바위 : 1, 보 : 2\n",
    "    img_size=28\n",
    "    color=3\n",
    "    #이미지 데이터와 라벨(가위 : 0, 바위 : 1, 보 : 2) 데이터를 담을 행렬(matrix) 영역을 생성합니다.\n",
    "    imgs=np.zeros(number_of_data*img_size*img_size*color,dtype=np.int32).reshape(number_of_data,img_size,img_size,color)\n",
    "    labels=np.zeros(number_of_data,dtype=np.int32)\n",
    "\n",
    "    idx=0\n",
    "    for file in glob.iglob(img_path+'/scissor/*.jpg'):\n",
    "        img = np.array(Image.open(file),dtype=np.int32)\n",
    "        imgs[idx,:,:,:]=img    # 데이터 영역에 이미지 행렬을 복사\n",
    "        labels[idx]=0   # 가위 : 0\n",
    "        idx=idx+1\n",
    "\n",
    "    for file in glob.iglob(img_path+'/rock/*.jpg'):\n",
    "        img = np.array(Image.open(file),dtype=np.int32)\n",
    "        imgs[idx,:,:,:]=img    # 데이터 영역에 이미지 행렬을 복사\n",
    "        labels[idx]=1   # 바위 : 1\n",
    "        idx=idx+1\n",
    "\n",
    "    for file in glob.iglob(img_path+'/paper/*.jpg'):\n",
    "        img = np.array(Image.open(file),dtype=np.int32)\n",
    "        imgs[idx,:,:,:]=img    # 데이터 영역에 이미지 행렬을 복사\n",
    "        labels[idx]=2   # 보 : 2\n",
    "        idx=idx+1\n",
    "\n",
    "    print(\"학습데이터(x_train)의 이미지 개수는\", idx,\"입니다.\")\n",
    "    return imgs, labels\n",
    "\n",
    "image_dir_path = \"test1\"\n",
    "(x_test, y_test)=load_test_data(image_dir_path)\n",
    "x_test_norm = x_test/255.0   # 입력은 0~1 사이의 값으로 정규화\n",
    "\n",
    "print(\"x_test shape: {}\".format(x_test.shape))\n",
    "print(\"y_test shape: {}\".format(y_test.shape))"
   ],
   "metadata": {
    "collapsed": false,
    "pycharm": {
     "name": "#%%\n"
    }
   }
  },
  {
   "cell_type": "markdown",
   "source": [
    "#### test dataset을 통하여 test accuracy 확인"
   ],
   "metadata": {
    "collapsed": false,
    "pycharm": {
     "name": "#%% md\n"
    }
   }
  },
  {
   "cell_type": "code",
   "execution_count": 182,
   "outputs": [
    {
     "name": "stdout",
     "output_type": "stream",
     "text": [
      "10/10 - 0s - loss: 0.7352 - accuracy: 0.7300 - 232ms/epoch - 23ms/step\n",
      "test_loss: 0.735244870185852\n",
      "test_accuracy: 0.7300000190734863\n"
     ]
    }
   ],
   "source": [
    "x_test_reshaped=x_test_norm.reshape( -1, 28, 28, 3)\n",
    "test_loss, test_accuracy = model.evaluate(x_test_reshaped,y_test, verbose=2)\n",
    "print(f\"test_loss: {test_loss}\")\n",
    "print(f\"test_accuracy: {test_accuracy}\")"
   ],
   "metadata": {
    "collapsed": false,
    "pycharm": {
     "name": "#%%\n"
    }
   }
  },
  {
   "cell_type": "markdown",
   "source": [
    "## 회고"
   ],
   "metadata": {
    "collapsed": false,
    "pycharm": {
     "name": "#%% md\n"
    }
   }
  },
  {
   "cell_type": "markdown",
   "source": [
    "#####\n",
    "- 직접 촬영한 이미지를 통해서 데이터 생성에서 시작하여 모델을 만들고 레이어를 구성하는 전체 흐름 이해할 수 있었음\n",
    "- 훈련셋이 약 300개인 경우 정확도가 30프로를 안나오는 경우도 있었음\n",
    "- 레이어를 추가하여 정확도가 많이 올라 갔으며 약 50 ~ 60프로 정도의 정확도를 보임\n",
    "- 초기 입력되는 레이어의 채널을 많이 가져가지 않는부분이 좋다는 동료분의 얘기를 듣고 16,32 사이의 값으로 테스트하여 32일때 가장 좋은 정확도가 나옴\n",
    "- Dense레이어에 입력되는 히든레이어에서 MaxPooling2D의 인자를 조정하였더니 테스트셋의 정확도가 많이 올라감을 확인\n",
    "- MaxPooling2D의 인자와 테스트셋 정확도간 상관성에 대해 테스트를 하여 확인이 필요하다고 생각됨\n",
    "- 검증셋을 추가하여 모델을 생성하는 경우 정확도는 검증셋이 없는 경우에 비해 절반의 정확도를 보임"
   ],
   "metadata": {
    "collapsed": false,
    "pycharm": {
     "name": "#%% md\n"
    }
   }
  }
 ],
 "metadata": {
  "kernelspec": {
   "display_name": "Python 3",
   "language": "python",
   "name": "python3"
  },
  "language_info": {
   "codemirror_mode": {
    "name": "ipython",
    "version": 2
   },
   "file_extension": ".py",
   "mimetype": "text/x-python",
   "name": "python",
   "nbconvert_exporter": "python",
   "pygments_lexer": "ipython2",
   "version": "2.7.6"
  }
 },
 "nbformat": 4,
 "nbformat_minor": 0
}