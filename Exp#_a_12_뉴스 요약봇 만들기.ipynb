{
 "cells": [
  {
   "cell_type": "markdown",
   "id": "70d99fba",
   "metadata": {},
   "source": [
    "## 뉴스 요약봇 만들기"
   ]
  },
  {
   "cell_type": "markdown",
   "id": "2dfc0a54",
   "metadata": {},
   "source": [
    "#### 라이브러리 불러오기"
   ]
  },
  {
   "cell_type": "code",
   "execution_count": 1,
   "id": "c72d1352",
   "metadata": {},
   "outputs": [
    {
     "name": "stderr",
     "output_type": "stream",
     "text": [
      "[nltk_data] Downloading package stopwords to /aiffel/nltk_data...\n",
      "[nltk_data]   Unzipping corpora/stopwords.zip.\n"
     ]
    }
   ],
   "source": [
    "import nltk\n",
    "nltk.download('stopwords')\n",
    "\n",
    "import numpy as np\n",
    "import pandas as pd\n",
    "import os\n",
    "import re\n",
    "import matplotlib.pyplot as plt\n",
    "from nltk.corpus import stopwords\n",
    "from bs4 import BeautifulSoup \n",
    "from tensorflow.keras.preprocessing.text import Tokenizer \n",
    "from tensorflow.keras.preprocessing.sequence import pad_sequences\n",
    "import urllib.request\n",
    "import warnings\n",
    "warnings.filterwarnings(\"ignore\", category=UserWarning, module='bs4')"
   ]
  },
  {
   "cell_type": "markdown",
   "id": "be46a82d",
   "metadata": {},
   "source": [
    "#### 뉴스 데이터 로드"
   ]
  },
  {
   "cell_type": "code",
   "execution_count": 2,
   "id": "9182b1be",
   "metadata": {
    "scrolled": true
   },
   "outputs": [],
   "source": [
    "import urllib.request\n",
    "urllib.request.urlretrieve(\"https://raw.githubusercontent.com/sunnysai12345/News_Summary/master/news_summary_more.csv\", filename=\"news_summary_more.csv\")\n",
    "data = pd.read_csv('news_summary_more.csv', encoding='iso-8859-1')"
   ]
  },
  {
   "cell_type": "code",
   "execution_count": 3,
   "id": "d30c00f9",
   "metadata": {},
   "outputs": [
    {
     "data": {
      "text/html": [
       "<div>\n",
       "<style scoped>\n",
       "    .dataframe tbody tr th:only-of-type {\n",
       "        vertical-align: middle;\n",
       "    }\n",
       "\n",
       "    .dataframe tbody tr th {\n",
       "        vertical-align: top;\n",
       "    }\n",
       "\n",
       "    .dataframe thead th {\n",
       "        text-align: right;\n",
       "    }\n",
       "</style>\n",
       "<table border=\"1\" class=\"dataframe\">\n",
       "  <thead>\n",
       "    <tr style=\"text-align: right;\">\n",
       "      <th></th>\n",
       "      <th>headlines</th>\n",
       "      <th>text</th>\n",
       "    </tr>\n",
       "  </thead>\n",
       "  <tbody>\n",
       "    <tr>\n",
       "      <th>71297</th>\n",
       "      <td>Spiral drawing test detects signs of Parkinson's</td>\n",
       "      <td>Australia-based researchers have trialled a so...</td>\n",
       "    </tr>\n",
       "    <tr>\n",
       "      <th>3181</th>\n",
       "      <td>Patna HC rejects plea, asks Tejashwi Yadav to ...</td>\n",
       "      <td>Patna High Court on Monday rejected RJD leader...</td>\n",
       "    </tr>\n",
       "    <tr>\n",
       "      <th>24598</th>\n",
       "      <td>Taj Mahal area should be no-plastic zone: UP g...</td>\n",
       "      <td>In its first draft of a vision document for pr...</td>\n",
       "    </tr>\n",
       "    <tr>\n",
       "      <th>78052</th>\n",
       "      <td>Will provide Bisleri bottles to drought-hit pe...</td>\n",
       "      <td>Madhya Pradesh Agriculture Minister Gauri Shan...</td>\n",
       "    </tr>\n",
       "    <tr>\n",
       "      <th>58151</th>\n",
       "      <td>Have to work to infuse technology with humanit...</td>\n",
       "      <td>While talking about artificial intelligence (A...</td>\n",
       "    </tr>\n",
       "    <tr>\n",
       "      <th>11217</th>\n",
       "      <td>Longest individual first-class innings was 17 ...</td>\n",
       "      <td>The then Himachal Pradesh captain Rajiv Nayyar...</td>\n",
       "    </tr>\n",
       "    <tr>\n",
       "      <th>73592</th>\n",
       "      <td>Women's college bans jeans, phones to promote ...</td>\n",
       "      <td>A womenÃ¢ÂÂs college in JharkhandÃ¢ÂÂs Dal...</td>\n",
       "    </tr>\n",
       "    <tr>\n",
       "      <th>98294</th>\n",
       "      <td>Russia deploys forces near Libyan border: Report</td>\n",
       "      <td>Russia has deployed special forces to an airba...</td>\n",
       "    </tr>\n",
       "    <tr>\n",
       "      <th>56422</th>\n",
       "      <td>Actress' mom did not want to file complaint: V...</td>\n",
       "      <td>The mother of the teenage actress who was alle...</td>\n",
       "    </tr>\n",
       "    <tr>\n",
       "      <th>9721</th>\n",
       "      <td>After Andhra, CBI barred from entering West Be...</td>\n",
       "      <td>West Bengal Chief Minister Mamata Banerjee has...</td>\n",
       "    </tr>\n",
       "  </tbody>\n",
       "</table>\n",
       "</div>"
      ],
      "text/plain": [
       "                                               headlines  \\\n",
       "71297   Spiral drawing test detects signs of Parkinson's   \n",
       "3181   Patna HC rejects plea, asks Tejashwi Yadav to ...   \n",
       "24598  Taj Mahal area should be no-plastic zone: UP g...   \n",
       "78052  Will provide Bisleri bottles to drought-hit pe...   \n",
       "58151  Have to work to infuse technology with humanit...   \n",
       "11217  Longest individual first-class innings was 17 ...   \n",
       "73592  Women's college bans jeans, phones to promote ...   \n",
       "98294   Russia deploys forces near Libyan border: Report   \n",
       "56422  Actress' mom did not want to file complaint: V...   \n",
       "9721   After Andhra, CBI barred from entering West Be...   \n",
       "\n",
       "                                                    text  \n",
       "71297  Australia-based researchers have trialled a so...  \n",
       "3181   Patna High Court on Monday rejected RJD leader...  \n",
       "24598  In its first draft of a vision document for pr...  \n",
       "78052  Madhya Pradesh Agriculture Minister Gauri Shan...  \n",
       "58151  While talking about artificial intelligence (A...  \n",
       "11217  The then Himachal Pradesh captain Rajiv Nayyar...  \n",
       "73592  A womenÃ¢ÂÂs college in JharkhandÃ¢ÂÂs Dal...  \n",
       "98294  Russia has deployed special forces to an airba...  \n",
       "56422  The mother of the teenage actress who was alle...  \n",
       "9721   West Bengal Chief Minister Mamata Banerjee has...  "
      ]
     },
     "execution_count": 3,
     "metadata": {},
     "output_type": "execute_result"
    }
   ],
   "source": [
    "data.sample(10)"
   ]
  },
  {
   "cell_type": "code",
   "execution_count": 4,
   "id": "457bf1f0",
   "metadata": {},
   "outputs": [
    {
     "name": "stdout",
     "output_type": "stream",
     "text": [
      "Text 열에서 중복을 배제한 유일한 샘플의 수 : 98360\n",
      "Summary 열에서 중복을 배제한 유일한 샘플의 수 : 98280\n"
     ]
    }
   ],
   "source": [
    "print('Text 열에서 중복을 배제한 유일한 샘플의 수 :', data['text'].nunique())\n",
    "print('Summary 열에서 중복을 배제한 유일한 샘플의 수 :', data['headlines'].nunique())"
   ]
  },
  {
   "cell_type": "code",
   "execution_count": 5,
   "id": "f1c5af2b",
   "metadata": {},
   "outputs": [
    {
     "name": "stdout",
     "output_type": "stream",
     "text": [
      "전체 샘플수 : 98360\n"
     ]
    }
   ],
   "source": [
    "# inplace=True 를 설정하면 DataFrame 타입 값을 return 하지 않고 data 내부를 직접적으로 바꿉니다\n",
    "data.drop_duplicates(subset = ['text'], inplace=True)\n",
    "print('전체 샘플수 :', (len(data)))"
   ]
  },
  {
   "cell_type": "code",
   "execution_count": 6,
   "id": "21add8d7",
   "metadata": {},
   "outputs": [
    {
     "name": "stdout",
     "output_type": "stream",
     "text": [
      "headlines    0\n",
      "text         0\n",
      "dtype: int64\n"
     ]
    }
   ],
   "source": [
    "print(data.isnull().sum())"
   ]
  },
  {
   "cell_type": "code",
   "execution_count": 7,
   "id": "733e3b97",
   "metadata": {
    "scrolled": true
   },
   "outputs": [
    {
     "name": "stdout",
     "output_type": "stream",
     "text": [
      "전체 샘플수 : 98360\n"
     ]
    }
   ],
   "source": [
    "data.dropna(axis=0, inplace=True)\n",
    "print('전체 샘플수 :', (len(data)))"
   ]
  },
  {
   "cell_type": "code",
   "execution_count": 8,
   "id": "1a86a142",
   "metadata": {},
   "outputs": [
    {
     "name": "stdout",
     "output_type": "stream",
     "text": [
      "정규화 사전의 수:  120\n"
     ]
    }
   ],
   "source": [
    "contractions = {\"ain't\": \"is not\", \"aren't\": \"are not\",\"can't\": \"cannot\", \"'cause\": \"because\", \"could've\": \"could have\", \"couldn't\": \"could not\",\n",
    "                           \"didn't\": \"did not\",  \"doesn't\": \"does not\", \"don't\": \"do not\", \"hadn't\": \"had not\", \"hasn't\": \"has not\", \"haven't\": \"have not\",\n",
    "                           \"he'd\": \"he would\",\"he'll\": \"he will\", \"he's\": \"he is\", \"how'd\": \"how did\", \"how'd'y\": \"how do you\", \"how'll\": \"how will\", \"how's\": \"how is\",\n",
    "                           \"I'd\": \"I would\", \"I'd've\": \"I would have\", \"I'll\": \"I will\", \"I'll've\": \"I will have\",\"I'm\": \"I am\", \"I've\": \"I have\", \"i'd\": \"i would\",\n",
    "                           \"i'd've\": \"i would have\", \"i'll\": \"i will\",  \"i'll've\": \"i will have\",\"i'm\": \"i am\", \"i've\": \"i have\", \"isn't\": \"is not\", \"it'd\": \"it would\",\n",
    "                           \"it'd've\": \"it would have\", \"it'll\": \"it will\", \"it'll've\": \"it will have\",\"it's\": \"it is\", \"let's\": \"let us\", \"ma'am\": \"madam\",\n",
    "                           \"mayn't\": \"may not\", \"might've\": \"might have\",\"mightn't\": \"might not\",\"mightn't've\": \"might not have\", \"must've\": \"must have\",\n",
    "                           \"mustn't\": \"must not\", \"mustn't've\": \"must not have\", \"needn't\": \"need not\", \"needn't've\": \"need not have\",\"o'clock\": \"of the clock\",\n",
    "                           \"oughtn't\": \"ought not\", \"oughtn't've\": \"ought not have\", \"shan't\": \"shall not\", \"sha'n't\": \"shall not\", \"shan't've\": \"shall not have\",\n",
    "                           \"she'd\": \"she would\", \"she'd've\": \"she would have\", \"she'll\": \"she will\", \"she'll've\": \"she will have\", \"she's\": \"she is\",\n",
    "                           \"should've\": \"should have\", \"shouldn't\": \"should not\", \"shouldn't've\": \"should not have\", \"so've\": \"so have\",\"so's\": \"so as\",\n",
    "                           \"this's\": \"this is\",\"that'd\": \"that would\", \"that'd've\": \"that would have\", \"that's\": \"that is\", \"there'd\": \"there would\",\n",
    "                           \"there'd've\": \"there would have\", \"there's\": \"there is\", \"here's\": \"here is\",\"they'd\": \"they would\", \"they'd've\": \"they would have\",\n",
    "                           \"they'll\": \"they will\", \"they'll've\": \"they will have\", \"they're\": \"they are\", \"they've\": \"they have\", \"to've\": \"to have\",\n",
    "                           \"wasn't\": \"was not\", \"we'd\": \"we would\", \"we'd've\": \"we would have\", \"we'll\": \"we will\", \"we'll've\": \"we will have\", \"we're\": \"we are\",\n",
    "                           \"we've\": \"we have\", \"weren't\": \"were not\", \"what'll\": \"what will\", \"what'll've\": \"what will have\", \"what're\": \"what are\",\n",
    "                           \"what's\": \"what is\", \"what've\": \"what have\", \"when's\": \"when is\", \"when've\": \"when have\", \"where'd\": \"where did\", \"where's\": \"where is\",\n",
    "                           \"where've\": \"where have\", \"who'll\": \"who will\", \"who'll've\": \"who will have\", \"who's\": \"who is\", \"who've\": \"who have\",\n",
    "                           \"why's\": \"why is\", \"why've\": \"why have\", \"will've\": \"will have\", \"won't\": \"will not\", \"won't've\": \"will not have\",\n",
    "                           \"would've\": \"would have\", \"wouldn't\": \"would not\", \"wouldn't've\": \"would not have\", \"y'all\": \"you all\",\n",
    "                           \"y'all'd\": \"you all would\",\"y'all'd've\": \"you all would have\",\"y'all're\": \"you all are\",\"y'all've\": \"you all have\",\n",
    "                           \"you'd\": \"you would\", \"you'd've\": \"you would have\", \"you'll\": \"you will\", \"you'll've\": \"you will have\",\n",
    "                           \"you're\": \"you are\", \"you've\": \"you have\"}\n",
    "\n",
    "print(\"정규화 사전의 수: \", len(contractions))"
   ]
  },
  {
   "cell_type": "code",
   "execution_count": 9,
   "id": "d060be47",
   "metadata": {},
   "outputs": [
    {
     "name": "stdout",
     "output_type": "stream",
     "text": [
      "불용어 개수 : 179\n",
      "['i', 'me', 'my', 'myself', 'we', 'our', 'ours', 'ourselves', 'you', \"you're\", \"you've\", \"you'll\", \"you'd\", 'your', 'yours', 'yourself', 'yourselves', 'he', 'him', 'his', 'himself', 'she', \"she's\", 'her', 'hers', 'herself', 'it', \"it's\", 'its', 'itself', 'they', 'them', 'their', 'theirs', 'themselves', 'what', 'which', 'who', 'whom', 'this', 'that', \"that'll\", 'these', 'those', 'am', 'is', 'are', 'was', 'were', 'be', 'been', 'being', 'have', 'has', 'had', 'having', 'do', 'does', 'did', 'doing', 'a', 'an', 'the', 'and', 'but', 'if', 'or', 'because', 'as', 'until', 'while', 'of', 'at', 'by', 'for', 'with', 'about', 'against', 'between', 'into', 'through', 'during', 'before', 'after', 'above', 'below', 'to', 'from', 'up', 'down', 'in', 'out', 'on', 'off', 'over', 'under', 'again', 'further', 'then', 'once', 'here', 'there', 'when', 'where', 'why', 'how', 'all', 'any', 'both', 'each', 'few', 'more', 'most', 'other', 'some', 'such', 'no', 'nor', 'not', 'only', 'own', 'same', 'so', 'than', 'too', 'very', 's', 't', 'can', 'will', 'just', 'don', \"don't\", 'should', \"should've\", 'now', 'd', 'll', 'm', 'o', 're', 've', 'y', 'ain', 'aren', \"aren't\", 'couldn', \"couldn't\", 'didn', \"didn't\", 'doesn', \"doesn't\", 'hadn', \"hadn't\", 'hasn', \"hasn't\", 'haven', \"haven't\", 'isn', \"isn't\", 'ma', 'mightn', \"mightn't\", 'mustn', \"mustn't\", 'needn', \"needn't\", 'shan', \"shan't\", 'shouldn', \"shouldn't\", 'wasn', \"wasn't\", 'weren', \"weren't\", 'won', \"won't\", 'wouldn', \"wouldn't\"]\n"
     ]
    }
   ],
   "source": [
    "print('불용어 개수 :', len(stopwords.words('english') ))\n",
    "print(stopwords.words('english'))"
   ]
  },
  {
   "cell_type": "code",
   "execution_count": 10,
   "id": "465ad6ce",
   "metadata": {},
   "outputs": [
    {
     "name": "stdout",
     "output_type": "stream",
     "text": [
      "=3\n"
     ]
    }
   ],
   "source": [
    "# 데이터 전처리 함수\n",
    "def preprocess_sentence(sentence, remove_stopwords=True):\n",
    "    sentence = sentence.lower() # 텍스트 소문자화\n",
    "    sentence = BeautifulSoup(sentence, \"lxml\").text # <br />, <a href = ...> 등의 html 태그 제거\n",
    "    sentence = re.sub(r'\\([^)]*\\)', '', sentence) # 괄호로 닫힌 문자열 (...) 제거 Ex) my husband (and myself!) for => my husband for\n",
    "    sentence = re.sub('\"','', sentence) # 쌍따옴표 \" 제거\n",
    "    sentence = ' '.join([contractions[t] if t in contractions else t for t in sentence.split(\" \")]) # 약어 정규화\n",
    "    sentence = re.sub(r\"'s\\b\",\"\", sentence) # 소유격 제거. Ex) roland's -> roland\n",
    "    sentence = re.sub(\"[^a-zA-Z]\", \" \", sentence) # 영어 외 문자(숫자, 특수문자 등) 공백으로 변환\n",
    "    sentence = re.sub('[m]{2,}', 'mm', sentence) # m이 3개 이상이면 2개로 변경. Ex) ummmmmmm yeah -> umm yeah\n",
    "    \n",
    "    # 불용어 제거 (Text)\n",
    "    if remove_stopwords:\n",
    "        tokens = ' '.join(word for word in sentence.split() if not word in stopwords.words('english') if len(word) > 1)\n",
    "    # 불용어 미제거 (Summary)\n",
    "    else:\n",
    "        tokens = ' '.join(word for word in sentence.split() if len(word) > 1)\n",
    "    return tokens\n",
    "print('=3')"
   ]
  },
  {
   "cell_type": "code",
   "execution_count": 11,
   "id": "19a3d804",
   "metadata": {},
   "outputs": [
    {
     "name": "stdout",
     "output_type": "stream",
     "text": [
      "text:  everything bought great infact ordered twice third ordered wasfor mother father\n",
      "summary: great way to start the day\n"
     ]
    }
   ],
   "source": [
    "temp_text = 'Everything I bought was great, infact I ordered twice and the third ordered was<br />for my mother and father.'\n",
    "temp_summary = 'Great way to start (or finish) the day!!!'\n",
    "\n",
    "print(\"text: \", preprocess_sentence(temp_text))\n",
    "print(\"summary:\", preprocess_sentence(temp_summary, False))  # 불용어를 제거하지 않습니다."
   ]
  },
  {
   "cell_type": "markdown",
   "id": "0441b7dd",
   "metadata": {},
   "source": [
    "#### 전체 문자에 대한 전처리 과정"
   ]
  },
  {
   "cell_type": "code",
   "execution_count": 12,
   "id": "3bc98210",
   "metadata": {},
   "outputs": [
    {
     "name": "stdout",
     "output_type": "stream",
     "text": [
      "Text 전처리 후 결과:  ['saurav kant alumnus upgrad iiit pg program machine learning artificial intelligence sr systems engineer infosys almost years work experience program upgrad degree career support helped transition data scientist tech mahindra salary hike upgrad online power learning powered lakh careers', 'kunal shah credit card bill payment platform cred gave users chance win free food swiggy one year pranav kaushik delhi techie bagged reward spending cred coins users get one cred coin per rupee bill paid used avail rewards brands like ixigo bookmyshow ubereats cult fit', 'new zealand defeated india wickets fourth odi hamilton thursday win first match five match odi series india lost international match rohit sharma captaincy consecutive victories dating back march match witnessed india getting seventh lowest total odi cricket history', 'aegon life iterm insurance plan customers enjoy tax benefits premiums paid save taxes plan provides life cover age years also customers options insure critical illnesses disability accidental death benefit rider life cover age years', 'speaking sexual harassment allegations rajkumar hirani sonam kapoor said known hirani many years true metoo movement get derailed metoo movement always believe woman case need reserve judgment added hirani accused assistant worked sanju']\n"
     ]
    }
   ],
   "source": [
    "clean_text = []\n",
    "# 전체 Text 데이터에 대한 전처리 : 10분 이상 시간이 걸릴 수 있습니다. \n",
    "for s in data['text']:\n",
    "    clean_text.append(preprocess_sentence(s))\n",
    "\n",
    "# 전처리 후 출력\n",
    "print(\"Text 전처리 후 결과: \", clean_text[:5])"
   ]
  },
  {
   "cell_type": "markdown",
   "id": "b1d2aaee",
   "metadata": {},
   "source": [
    "#### 전체 요약에 대한 전처리 과정"
   ]
  },
  {
   "cell_type": "code",
   "execution_count": 13,
   "id": "b6796971",
   "metadata": {},
   "outputs": [
    {
     "name": "stdout",
     "output_type": "stream",
     "text": [
      "Summary 전처리 후 결과:  ['upgrad learner switches to career in ml al with salary hike', 'delhi techie wins free food from swiggy for one year on cred', 'new zealand end rohit sharma led india match winning streak', 'aegon life iterm insurance plan helps customers save tax', 'have known hirani for yrs what if metoo claims are not true sonam']\n"
     ]
    }
   ],
   "source": [
    "clean_summary = []\n",
    "# 전체 Summary 데이터에 대한 전처리 : 5분 이상 시간이 걸릴 수 있습니다. \n",
    "for s in data['headlines']:\n",
    "    clean_summary.append(preprocess_sentence(s, False))\n",
    "\n",
    "print(\"Summary 전처리 후 결과: \", clean_summary[:5])"
   ]
  },
  {
   "cell_type": "code",
   "execution_count": 14,
   "id": "61391a7a",
   "metadata": {},
   "outputs": [
    {
     "name": "stdout",
     "output_type": "stream",
     "text": [
      "=3\n"
     ]
    }
   ],
   "source": [
    "data['text'] = clean_text\n",
    "data['headlines'] = clean_summary\n",
    "\n",
    "# 빈 값을 Null 값으로 변환\n",
    "data.replace('', np.nan, inplace=True)\n",
    "print('=3')"
   ]
  },
  {
   "cell_type": "code",
   "execution_count": 15,
   "id": "c2e32f6b",
   "metadata": {},
   "outputs": [
    {
     "data": {
      "text/plain": [
       "headlines    0\n",
       "text         0\n",
       "dtype: int64"
      ]
     },
     "execution_count": 15,
     "metadata": {},
     "output_type": "execute_result"
    }
   ],
   "source": [
    "data.isnull().sum()"
   ]
  },
  {
   "cell_type": "code",
   "execution_count": 16,
   "id": "a57680a4",
   "metadata": {
    "scrolled": true
   },
   "outputs": [
    {
     "name": "stdout",
     "output_type": "stream",
     "text": [
      "전체 샘플수 : 98360\n"
     ]
    }
   ],
   "source": [
    "data.dropna(axis=0, inplace=True)\n",
    "print('전체 샘플수 :', (len(data)))"
   ]
  },
  {
   "cell_type": "markdown",
   "id": "3ce0f489",
   "metadata": {},
   "source": [
    "#### 텍스트 길이에 대한 시각화"
   ]
  },
  {
   "cell_type": "code",
   "execution_count": 17,
   "id": "e1d7b2d5",
   "metadata": {
    "scrolled": false
   },
   "outputs": [
    {
     "name": "stdout",
     "output_type": "stream",
     "text": [
      "텍스트의 최소 길이 : 1\n",
      "텍스트의 최대 길이 : 60\n",
      "텍스트의 평균 길이 : 35.09968483123221\n",
      "요약의 최소 길이 : 1\n",
      "요약의 최대 길이 : 16\n",
      "요약의 평균 길이 : 9.299532330215534\n"
     ]
    },
    {
     "data": {
      "image/png": "[encoded data removed]",
      "text/plain": [
       "<Figure size 432x288 with 2 Axes>"
      ]
     },
     "metadata": {
      "needs_background": "light"
     },
     "output_type": "display_data"
    },
    {
     "data": {
      "image/png": "[encoded data removed]",
      "text/plain": [
       "<Figure size 432x288 with 1 Axes>"
      ]
     },
     "metadata": {
      "needs_background": "light"
     },
     "output_type": "display_data"
    },
    {
     "data": {
      "image/png": "[encoded data removed]",
      "text/plain": [
       "<Figure size 432x288 with 1 Axes>"
      ]
     },
     "metadata": {
      "needs_background": "light"
     },
     "output_type": "display_data"
    }
   ],
   "source": [
    "# 길이 분포 출력\n",
    "import matplotlib.pyplot as plt\n",
    "\n",
    "text_len = [len(s.split()) for s in data['text']]\n",
    "summary_len = [len(s.split()) for s in data['headlines']]\n",
    "\n",
    "print('텍스트의 최소 길이 : {}'.format(np.min(text_len)))\n",
    "print('텍스트의 최대 길이 : {}'.format(np.max(text_len)))\n",
    "print('텍스트의 평균 길이 : {}'.format(np.mean(text_len)))\n",
    "print('요약의 최소 길이 : {}'.format(np.min(summary_len)))\n",
    "print('요약의 최대 길이 : {}'.format(np.max(summary_len)))\n",
    "print('요약의 평균 길이 : {}'.format(np.mean(summary_len)))\n",
    "\n",
    "plt.subplot(1,2,1)\n",
    "plt.boxplot(text_len)\n",
    "plt.title('Text')\n",
    "plt.subplot(1,2,2)\n",
    "plt.boxplot(summary_len)\n",
    "plt.title('headlines')\n",
    "plt.tight_layout()\n",
    "plt.show()\n",
    "\n",
    "plt.title('Text')\n",
    "plt.hist(text_len, bins = 40)\n",
    "plt.xlabel('length of samples')\n",
    "plt.ylabel('number of samples')\n",
    "plt.show()\n",
    "\n",
    "plt.title('headlines')\n",
    "plt.hist(summary_len, bins = 40)\n",
    "plt.xlabel('length of samples')\n",
    "plt.ylabel('number of samples')\n",
    "plt.show()"
   ]
  },
  {
   "cell_type": "code",
   "execution_count": 18,
   "id": "d90183fa",
   "metadata": {},
   "outputs": [
    {
     "name": "stdout",
     "output_type": "stream",
     "text": [
      "=3\n"
     ]
    }
   ],
   "source": [
    "text_max_len = 50\n",
    "summary_max_len = 8\n",
    "print('=3')"
   ]
  },
  {
   "cell_type": "code",
   "execution_count": 19,
   "id": "b67e8122",
   "metadata": {},
   "outputs": [],
   "source": [
    "def below_threshold_len(max_len, nested_list):\n",
    "    cnt = 0\n",
    "    for s in nested_list:\n",
    "        if(len(s.split()) <= max_len):\n",
    "            cnt = cnt + 1\n",
    "        print('전체 샘플 중 길이가 %s 이하인 샘플의 비율: %s'%(max_len, (cnt / len(nested_list))))\n",
    "    print('=3')"
   ]
  },
  {
   "cell_type": "code",
   "execution_count": 21,
   "id": "db6fb13b",
   "metadata": {},
   "outputs": [
    {
     "name": "stdout",
     "output_type": "stream",
     "text": [
      "전체 샘플수 : 27105\n"
     ]
    }
   ],
   "source": [
    "data = data[data['text'].apply(lambda x: len(x.split()) <= text_max_len)]\n",
    "data = data[data['headlines'].apply(lambda x: len(x.split()) <= summary_max_len)]\n",
    "print('전체 샘플수 :', (len(data)))"
   ]
  },
  {
   "cell_type": "code",
   "execution_count": 22,
   "id": "fe93f0af",
   "metadata": {},
   "outputs": [
    {
     "data": {
      "text/html": [
       "<div>\n",
       "<style scoped>\n",
       "    .dataframe tbody tr th:only-of-type {\n",
       "        vertical-align: middle;\n",
       "    }\n",
       "\n",
       "    .dataframe tbody tr th {\n",
       "        vertical-align: top;\n",
       "    }\n",
       "\n",
       "    .dataframe thead th {\n",
       "        text-align: right;\n",
       "    }\n",
       "</style>\n",
       "<table border=\"1\" class=\"dataframe\">\n",
       "  <thead>\n",
       "    <tr style=\"text-align: right;\">\n",
       "      <th></th>\n",
       "      <th>headlines</th>\n",
       "      <th>text</th>\n",
       "      <th>decoder_input</th>\n",
       "      <th>decoder_target</th>\n",
       "    </tr>\n",
       "  </thead>\n",
       "  <tbody>\n",
       "    <tr>\n",
       "      <th>19</th>\n",
       "      <td>odisha cm patnaik controls mining mafia union ...</td>\n",
       "      <td>union minister dharmendra pradhan wednesday cl...</td>\n",
       "      <td>sostoken odisha cm patnaik controls mining maf...</td>\n",
       "      <td>odisha cm patnaik controls mining mafia union ...</td>\n",
       "    </tr>\n",
       "    <tr>\n",
       "      <th>21</th>\n",
       "      <td>isro unveils bengaluru centre for manned space...</td>\n",
       "      <td>indian space research organisation wednesday u...</td>\n",
       "      <td>sostoken isro unveils bengaluru centre for man...</td>\n",
       "      <td>isro unveils bengaluru centre for manned space...</td>\n",
       "    </tr>\n",
       "    <tr>\n",
       "      <th>22</th>\n",
       "      <td>killed injured in saudi arabia floods</td>\n",
       "      <td>least people killed others injured saudi arabi...</td>\n",
       "      <td>sostoken killed injured in saudi arabia floods</td>\n",
       "      <td>killed injured in saudi arabia floods eostoken</td>\n",
       "    </tr>\n",
       "    <tr>\n",
       "      <th>29</th>\n",
       "      <td>seat cushions from missing plane carrying foot...</td>\n",
       "      <td>investigators searching lost plane carrying ar...</td>\n",
       "      <td>sostoken seat cushions from missing plane carr...</td>\n",
       "      <td>seat cushions from missing plane carrying foot...</td>\n",
       "    </tr>\n",
       "    <tr>\n",
       "      <th>36</th>\n",
       "      <td>agustawestland scam accused rajiv saxena extra...</td>\n",
       "      <td>agustawestland chopper scam co accused rajiv s...</td>\n",
       "      <td>sostoken agustawestland scam accused rajiv sax...</td>\n",
       "      <td>agustawestland scam accused rajiv saxena extra...</td>\n",
       "    </tr>\n",
       "  </tbody>\n",
       "</table>\n",
       "</div>"
      ],
      "text/plain": [
       "                                            headlines  \\\n",
       "19  odisha cm patnaik controls mining mafia union ...   \n",
       "21  isro unveils bengaluru centre for manned space...   \n",
       "22              killed injured in saudi arabia floods   \n",
       "29  seat cushions from missing plane carrying foot...   \n",
       "36  agustawestland scam accused rajiv saxena extra...   \n",
       "\n",
       "                                                 text  \\\n",
       "19  union minister dharmendra pradhan wednesday cl...   \n",
       "21  indian space research organisation wednesday u...   \n",
       "22  least people killed others injured saudi arabi...   \n",
       "29  investigators searching lost plane carrying ar...   \n",
       "36  agustawestland chopper scam co accused rajiv s...   \n",
       "\n",
       "                                        decoder_input  \\\n",
       "19  sostoken odisha cm patnaik controls mining maf...   \n",
       "21  sostoken isro unveils bengaluru centre for man...   \n",
       "22     sostoken killed injured in saudi arabia floods   \n",
       "29  sostoken seat cushions from missing plane carr...   \n",
       "36  sostoken agustawestland scam accused rajiv sax...   \n",
       "\n",
       "                                       decoder_target  \n",
       "19  odisha cm patnaik controls mining mafia union ...  \n",
       "21  isro unveils bengaluru centre for manned space...  \n",
       "22     killed injured in saudi arabia floods eostoken  \n",
       "29  seat cushions from missing plane carrying foot...  \n",
       "36  agustawestland scam accused rajiv saxena extra...  "
      ]
     },
     "execution_count": 22,
     "metadata": {},
     "output_type": "execute_result"
    }
   ],
   "source": [
    "# 요약 데이터에는 시작 토큰과 종료 토큰을 추가한다.\n",
    "data['decoder_input'] = data['headlines'].apply(lambda x : 'sostoken '+ x)\n",
    "data['decoder_target'] = data['headlines'].apply(lambda x : x + ' eostoken')\n",
    "data.head()"
   ]
  },
  {
   "cell_type": "markdown",
   "id": "ca6e7ec4",
   "metadata": {},
   "source": [
    "#### 데이터에 대한 변수 선언( encoder_input, decoder_input, decoder_target )"
   ]
  },
  {
   "cell_type": "code",
   "execution_count": 36,
   "id": "b478fb91",
   "metadata": {},
   "outputs": [],
   "source": [
    "encoder_input = np.array(data['text']) # 인코더의 입력\n",
    "decoder_input = np.array(data['decoder_input']) # 디코더의 입력\n",
    "decoder_target = np.array(data['decoder_target']) # 디코더의 레이블\n"
   ]
  },
  {
   "cell_type": "code",
   "execution_count": 37,
   "id": "7084f168",
   "metadata": {},
   "outputs": [
    {
     "name": "stdout",
     "output_type": "stream",
     "text": [
      "[25929  9775 22587 ...  9262  9163 18809]\n"
     ]
    }
   ],
   "source": [
    "indices = np.arange(encoder_input.shape[0])\n",
    "np.random.shuffle(indices)\n",
    "print(indices)"
   ]
  },
  {
   "cell_type": "code",
   "execution_count": 39,
   "id": "8ffca715",
   "metadata": {},
   "outputs": [
    {
     "data": {
      "text/plain": [
       "array(['sostoken deepika irrfan to feature in vishal bhardwaj film',\n",
       "       'sostoken car wash startup cleansecar raises crore angel funding',\n",
       "       'sostoken air corridor linking mumbai to kabul inaugurated', ...,\n",
       "       'sostoken landfill site in vadodara converted into tree museum',\n",
       "       'sostoken principal arrested for facilitating cheating in up boards',\n",
       "       'sostoken kamal haasan launches mobile app for whistleblowers'],\n",
       "      dtype=object)"
      ]
     },
     "execution_count": 39,
     "metadata": {},
     "output_type": "execute_result"
    }
   ],
   "source": [
    "encoder_input = encoder_input[indices]\n",
    "decoder_input = decoder_input[indices]\n",
    "decoder_target = decoder_target[indices]\n",
    "decoder_input"
   ]
  },
  {
   "cell_type": "code",
   "execution_count": 40,
   "id": "76c1cda0",
   "metadata": {},
   "outputs": [
    {
     "name": "stdout",
     "output_type": "stream",
     "text": [
      "테스트 데이터의 수 : 5421\n"
     ]
    }
   ],
   "source": [
    "n_of_val = int(len(encoder_input)*0.2)\n",
    "print('테스트 데이터의 수 :', n_of_val)"
   ]
  },
  {
   "cell_type": "markdown",
   "id": "3f8c1ef9",
   "metadata": {},
   "source": [
    "#### 훈련데이터와 테스트 데이터 분리"
   ]
  },
  {
   "cell_type": "code",
   "execution_count": 41,
   "id": "8688e969",
   "metadata": {},
   "outputs": [
    {
     "name": "stdout",
     "output_type": "stream",
     "text": [
      "훈련 데이터의 개수 : 21684\n",
      "훈련 레이블의 개수 : 21684\n",
      "테스트 데이터의 개수 : 5421\n",
      "테스트 레이블의 개수 : 5421\n"
     ]
    }
   ],
   "source": [
    "encoder_input_train = encoder_input[:-n_of_val]\n",
    "decoder_input_train = decoder_input[:-n_of_val]\n",
    "decoder_target_train = decoder_target[:-n_of_val]\n",
    "\n",
    "encoder_input_test = encoder_input[-n_of_val:]\n",
    "decoder_input_test = decoder_input[-n_of_val:]\n",
    "decoder_target_test = decoder_target[-n_of_val:]\n",
    "\n",
    "print('훈련 데이터의 개수 :', len(encoder_input_train))\n",
    "print('훈련 레이블의 개수 :', len(decoder_input_train))\n",
    "print('테스트 데이터의 개수 :', len(encoder_input_test))\n",
    "print('테스트 레이블의 개수 :', len(decoder_input_test))"
   ]
  },
  {
   "cell_type": "markdown",
   "id": "9ae0808f",
   "metadata": {},
   "source": [
    "#### 토크나이징"
   ]
  },
  {
   "cell_type": "markdown",
   "id": "fa40fe95",
   "metadata": {},
   "source": [
    "##### 입력된 데이터로부터 단어집합 생성\n",
    "훈련입력데이터의 단어수와 최빈/희귀등 단어 비율 확인 "
   ]
  },
  {
   "cell_type": "code",
   "execution_count": 42,
   "id": "e0c39e38",
   "metadata": {},
   "outputs": [],
   "source": [
    "src_tokenizer = Tokenizer() # 토크나이저 정의\n",
    "src_tokenizer.fit_on_texts(encoder_input_train) # 입력된 데이터로부터 단어 집합 생성\n"
   ]
  },
  {
   "cell_type": "code",
   "execution_count": 43,
   "id": "a740c2c1",
   "metadata": {},
   "outputs": [
    {
     "name": "stdout",
     "output_type": "stream",
     "text": [
      "단어 집합(vocabulary)의 크기 : 42489\n",
      "등장 빈도가 6번 이하인 희귀 단어의 수: 30817\n",
      "단어 집합에서 희귀 단어를 제외시킬 경우의 단어 집합의 크기 11672\n",
      "단어 집합에서 희귀 단어의 비율: 72.52936054037515\n",
      "전체 등장 빈도에서 희귀 단어 등장 빈도 비율: 8.325461069410375\n"
     ]
    }
   ],
   "source": [
    "threshold = 7\n",
    "total_cnt = len(src_tokenizer.word_index) # 단어의 수\n",
    "rare_cnt = 0 # 등장 빈도수가 threshold보다 작은 단어의 개수를 카운트\n",
    "total_freq = 0 # 훈련 데이터의 전체 단어 빈도수 총 합\n",
    "rare_freq = 0 # 등장 빈도수가 threshold보다 작은 단어의 등장 빈도수의 총 합\n",
    "\n",
    "# 단어와 빈도수의 쌍(pair)을 key와 value로 받는다.\n",
    "for key, value in src_tokenizer.word_counts.items():\n",
    "    total_freq = total_freq + value\n",
    "\n",
    "    # 단어의 등장 빈도수가 threshold보다 작으면\n",
    "    if(value < threshold):\n",
    "        rare_cnt = rare_cnt + 1\n",
    "        rare_freq = rare_freq + value\n",
    "\n",
    "print('단어 집합(vocabulary)의 크기 :', total_cnt)\n",
    "print('등장 빈도가 %s번 이하인 희귀 단어의 수: %s'%(threshold - 1, rare_cnt))\n",
    "print('단어 집합에서 희귀 단어를 제외시킬 경우의 단어 집합의 크기 %s'%(total_cnt - rare_cnt))\n",
    "print(\"단어 집합에서 희귀 단어의 비율:\", (rare_cnt / total_cnt)*100)\n",
    "print(\"전체 등장 빈도에서 희귀 단어 등장 빈도 비율:\", (rare_freq / total_freq)*100)"
   ]
  },
  {
   "cell_type": "markdown",
   "id": "9d44c4c3",
   "metadata": {},
   "source": [
    "#### 훈련데이터 vocab 사이즈 8000개로 제한"
   ]
  },
  {
   "cell_type": "code",
   "execution_count": 45,
   "id": "95d08df8",
   "metadata": {},
   "outputs": [
    {
     "data": {
      "text/html": [
       "<div>\n",
       "<style scoped>\n",
       "    .dataframe tbody tr th:only-of-type {\n",
       "        vertical-align: middle;\n",
       "    }\n",
       "\n",
       "    .dataframe tbody tr th {\n",
       "        vertical-align: top;\n",
       "    }\n",
       "\n",
       "    .dataframe thead th {\n",
       "        text-align: right;\n",
       "    }\n",
       "</style>\n",
       "<table border=\"1\" class=\"dataframe\">\n",
       "  <thead>\n",
       "    <tr style=\"text-align: right;\">\n",
       "      <th></th>\n",
       "      <th>0</th>\n",
       "    </tr>\n",
       "  </thead>\n",
       "  <tbody>\n",
       "    <tr>\n",
       "      <th>0</th>\n",
       "      <td>sostoken deepika irrfan to feature in vishal b...</td>\n",
       "    </tr>\n",
       "    <tr>\n",
       "      <th>1</th>\n",
       "      <td>sostoken car wash startup cleansecar raises cr...</td>\n",
       "    </tr>\n",
       "    <tr>\n",
       "      <th>2</th>\n",
       "      <td>sostoken air corridor linking mumbai to kabul ...</td>\n",
       "    </tr>\n",
       "    <tr>\n",
       "      <th>3</th>\n",
       "      <td>sostoken brothels provide minors for sex in mu...</td>\n",
       "    </tr>\n",
       "    <tr>\n",
       "      <th>4</th>\n",
       "      <td>sostoken video swedish jets drop bombs to exti...</td>\n",
       "    </tr>\n",
       "  </tbody>\n",
       "</table>\n",
       "</div>"
      ],
      "text/plain": [
       "                                                   0\n",
       "0  sostoken deepika irrfan to feature in vishal b...\n",
       "1  sostoken car wash startup cleansecar raises cr...\n",
       "2  sostoken air corridor linking mumbai to kabul ...\n",
       "3  sostoken brothels provide minors for sex in mu...\n",
       "4  sostoken video swedish jets drop bombs to exti..."
      ]
     },
     "execution_count": 45,
     "metadata": {},
     "output_type": "execute_result"
    }
   ],
   "source": [
    "src_vocab = 8000\n",
    "src_tokenizer = Tokenizer(num_words=src_vocab) # 단어 집합의 크기를 8,000으로 제한\n",
    "src_tokenizer.fit_on_texts(encoder_input_train) # 단어 집합 재생성\n",
    "pd.DataFrame(decoder_input_train).head(5)"
   ]
  },
  {
   "cell_type": "markdown",
   "id": "8bc592ea",
   "metadata": {},
   "source": [
    "#### 텍스트를 정수로 변환 ( 훈련입력데이터 )"
   ]
  },
  {
   "cell_type": "code",
   "execution_count": 46,
   "id": "562dcf82",
   "metadata": {},
   "outputs": [
    {
     "name": "stdout",
     "output_type": "stream",
     "text": [
      "[[1117, 839, 1284, 3879, 142, 337, 632, 881, 2935, 5982, 208, 14, 14, 21, 3369, 3777, 991, 2935, 237, 7414, 839, 460, 396, 5585, 1552, 142, 3879, 461, 503, 3369, 27, 6], [166, 17, 225, 35, 105, 9, 2885, 128, 239, 524, 289, 41, 524, 3, 928, 1614, 4, 852, 143, 177, 912, 5760, 225, 741, 667, 6721, 1537, 2248, 41, 2789, 5233, 3370], [3, 452, 50, 1956, 100, 162, 3442, 2525, 4296, 59, 3058, 20, 2525, 375, 2413, 452, 6198, 5083, 1973, 452, 2754, 1045, 138, 25, 3, 861, 12, 162, 3984, 93, 299, 2, 2613, 3058, 20, 36]]\n"
     ]
    }
   ],
   "source": [
    "# 텍스트 시퀀스를 정수 시퀀스로 변환\n",
    "encoder_input_train = src_tokenizer.texts_to_sequences(encoder_input_train) \n",
    "encoder_input_test = src_tokenizer.texts_to_sequences(encoder_input_test)\n",
    "\n",
    "# 잘 진행되었는지 샘플 출력\n",
    "print(encoder_input_train[:3])"
   ]
  },
  {
   "cell_type": "markdown",
   "id": "960809ff",
   "metadata": {},
   "source": [
    "#### 요약본( 디코더) 입력 훈련 데이터 토크나이징"
   ]
  },
  {
   "cell_type": "code",
   "execution_count": 48,
   "id": "c7684b64",
   "metadata": {},
   "outputs": [
    {
     "data": {
      "text/plain": [
       "<keras_preprocessing.text.Tokenizer at 0x7f6a0734c280>"
      ]
     },
     "execution_count": 48,
     "metadata": {},
     "output_type": "execute_result"
    }
   ],
   "source": [
    "tar_tokenizer = Tokenizer()\n",
    "tar_tokenizer.fit_on_texts(decoder_input_train)\n",
    "tar_tokenizer"
   ]
  },
  {
   "cell_type": "code",
   "execution_count": 33,
   "id": "273c234a",
   "metadata": {},
   "outputs": [
    {
     "name": "stdout",
     "output_type": "stream",
     "text": [
      "단어 집합(vocabulary)의 크기 : 18893\n",
      "등장 빈도가 5번 이하인 희귀 단어의 수: 14268\n",
      "단어 집합에서 희귀 단어를 제외시킬 경우의 단어 집합의 크기 4625\n",
      "단어 집합에서 희귀 단어의 비율: 75.52003387498016\n",
      "전체 등장 빈도에서 희귀 단어 등장 빈도 비율: 14.18823592522061\n"
     ]
    }
   ],
   "source": [
    "threshold = 6\n",
    "total_cnt = len(tar_tokenizer.word_index) # 단어의 수\n",
    "rare_cnt = 0 # 등장 빈도수가 threshold보다 작은 단어의 개수를 카운트\n",
    "total_freq = 0 # 훈련 데이터의 전체 단어 빈도수 총 합\n",
    "rare_freq = 0 # 등장 빈도수가 threshold보다 작은 단어의 등장 빈도수의 총 합\n",
    "\n",
    "# 단어와 빈도수의 쌍(pair)을 key와 value로 받는다.\n",
    "for key, value in tar_tokenizer.word_counts.items():\n",
    "    total_freq = total_freq + value\n",
    "\n",
    "    # 단어의 등장 빈도수가 threshold보다 작으면\n",
    "    if(value < threshold):\n",
    "        rare_cnt = rare_cnt + 1\n",
    "        rare_freq = rare_freq + value\n",
    "\n",
    "print('단어 집합(vocabulary)의 크기 :', total_cnt)\n",
    "print('등장 빈도가 %s번 이하인 희귀 단어의 수: %s'%(threshold - 1, rare_cnt))\n",
    "print('단어 집합에서 희귀 단어를 제외시킬 경우의 단어 집합의 크기 %s'%(total_cnt - rare_cnt))\n",
    "print(\"단어 집합에서 희귀 단어의 비율:\", (rare_cnt / total_cnt)*100)\n",
    "print(\"전체 등장 빈도에서 희귀 단어 등장 빈도 비율:\", (rare_freq / total_freq)*100)"
   ]
  },
  {
   "cell_type": "code",
   "execution_count": 49,
   "id": "1c387cfb",
   "metadata": {},
   "outputs": [
    {
     "name": "stdout",
     "output_type": "stream",
     "text": [
      "input\n",
      "input  [[1, 235, 1540, 4, 324, 3, 92], [1, 137, 19, 29, 11, 255], [1, 130, 1922, 26, 4], [1, 1706, 5, 669, 3, 26, 30], [1, 65, 1819, 1923, 1608, 4]]\n",
      "target\n",
      "decoder  [[235, 1540, 4, 324, 3, 92, 2], [137, 19, 29, 11, 255, 2], [130, 1922, 26, 4, 2], [1706, 5, 669, 3, 26, 30, 2], [65, 1819, 1923, 1608, 4, 2]]\n"
     ]
    }
   ],
   "source": [
    "tar_vocab = 2000\n",
    "tar_tokenizer = Tokenizer(num_words=tar_vocab) \n",
    "tar_tokenizer.fit_on_texts(decoder_input_train)\n",
    "tar_tokenizer.fit_on_texts(decoder_target_train)\n",
    "\n",
    "# 텍스트 시퀀스를 정수 시퀀스로 변환\n",
    "decoder_input_train = tar_tokenizer.texts_to_sequences(decoder_input_train) \n",
    "decoder_target_train = tar_tokenizer.texts_to_sequences(decoder_target_train)\n",
    "decoder_input_test = tar_tokenizer.texts_to_sequences(decoder_input_test)\n",
    "decoder_target_test = tar_tokenizer.texts_to_sequences(decoder_target_test)\n",
    "\n",
    "# 잘 변환되었는지 확인\n",
    "print('input')\n",
    "print('input ',decoder_input_train[:5])\n",
    "print('target')\n",
    "print('decoder ',decoder_target_train[:5])"
   ]
  },
  {
   "cell_type": "code",
   "execution_count": 50,
   "id": "873a8962",
   "metadata": {},
   "outputs": [
    {
     "name": "stdout",
     "output_type": "stream",
     "text": [
      "삭제할 훈련 데이터의 개수 : 11\n",
      "삭제할 테스트 데이터의 개수 : 1\n",
      "훈련 데이터의 개수 : 21673\n",
      "훈련 레이블의 개수 : 21673\n",
      "테스트 데이터의 개수 : 5420\n",
      "테스트 레이블의 개수 : 5420\n"
     ]
    }
   ],
   "source": [
    "drop_train = [index for index, sentence in enumerate(decoder_input_train) if len(sentence) == 1]\n",
    "drop_test = [index for index, sentence in enumerate(decoder_input_test) if len(sentence) == 1]\n",
    "\n",
    "print('삭제할 훈련 데이터의 개수 :', len(drop_train))\n",
    "print('삭제할 테스트 데이터의 개수 :', len(drop_test))\n",
    "\n",
    "encoder_input_train = [sentence for index, sentence in enumerate(encoder_input_train) if index not in drop_train]\n",
    "decoder_input_train = [sentence for index, sentence in enumerate(decoder_input_train) if index not in drop_train]\n",
    "decoder_target_train = [sentence for index, sentence in enumerate(decoder_target_train) if index not in drop_train]\n",
    "\n",
    "encoder_input_test = [sentence for index, sentence in enumerate(encoder_input_test) if index not in drop_test]\n",
    "decoder_input_test = [sentence for index, sentence in enumerate(decoder_input_test) if index not in drop_test]\n",
    "decoder_target_test = [sentence for index, sentence in enumerate(decoder_target_test) if index not in drop_test]\n",
    "\n",
    "print('훈련 데이터의 개수 :', len(encoder_input_train))\n",
    "print('훈련 레이블의 개수 :', len(decoder_input_train))\n",
    "print('테스트 데이터의 개수 :', len(encoder_input_test))\n",
    "print('테스트 레이블의 개수 :', len(decoder_input_test))"
   ]
  },
  {
   "cell_type": "code",
   "execution_count": 51,
   "id": "5ee852b0",
   "metadata": {},
   "outputs": [
    {
     "name": "stdout",
     "output_type": "stream",
     "text": [
      "=3\n"
     ]
    }
   ],
   "source": [
    "encoder_input_train = pad_sequences(encoder_input_train, maxlen=text_max_len, padding='post')\n",
    "encoder_input_test = pad_sequences(encoder_input_test, maxlen=text_max_len, padding='post')\n",
    "decoder_input_train = pad_sequences(decoder_input_train, maxlen=summary_max_len, padding='post')\n",
    "decoder_target_train = pad_sequences(decoder_target_train, maxlen=summary_max_len, padding='post')\n",
    "decoder_input_test = pad_sequences(decoder_input_test, maxlen=summary_max_len, padding='post')\n",
    "decoder_target_test = pad_sequences(decoder_target_test, maxlen=summary_max_len, padding='post')\n",
    "print('=3')"
   ]
  },
  {
   "cell_type": "markdown",
   "id": "61c9d2c1",
   "metadata": {},
   "source": [
    "###  encoder 모델"
   ]
  },
  {
   "cell_type": "code",
   "execution_count": 53,
   "id": "c41a2ad4",
   "metadata": {},
   "outputs": [],
   "source": [
    "from tensorflow.keras.layers import Input, LSTM, Embedding, Dense, Concatenate, TimeDistributed\n",
    "from tensorflow.keras.models import Model\n",
    "from tensorflow.keras.callbacks import EarlyStopping, ModelCheckpoint\n",
    "\n",
    "\n",
    "# 인코더 설계 시작\n",
    "embedding_dim = 128\n",
    "hidden_size = 256\n",
    "\n",
    "# 인코더\n",
    "encoder_inputs = Input(shape=(text_max_len,))\n",
    "\n",
    "# 인코더의 임베딩 층\n",
    "enc_emb = Embedding(src_vocab, embedding_dim)(encoder_inputs)\n",
    "\n",
    "# 인코더의 LSTM 1\n",
    "# encoder_lstm1 = LSTM(hidden_size, return_sequences=True, return_state=True ,dropout = 0.4, recurrent_dropout = 0.4)\n",
    "encoder_lstm1 = LSTM(hidden_size, return_sequences=True, return_state=True ,dropout = 0.4)\n",
    "encoder_output1, state_h1, state_c1 = encoder_lstm1(enc_emb)\n",
    "\n",
    "# 인코더의 LSTM 2\n",
    "# encoder_lstm2 = LSTM(hidden_size, return_sequences=True, return_state=True, dropout=0.4, recurrent_dropout=0.4)\n",
    "encoder_lstm2 = LSTM(hidden_size, return_sequences=True, return_state=True, dropout=0.4)\n",
    "encoder_output2, state_h2, state_c2 = encoder_lstm2(encoder_output1)\n",
    "\n",
    "# 인코더의 LSTM 3\n",
    "# encoder_lstm3 = LSTM(hidden_size, return_state=True, return_sequences=True, dropout=0.4, recurrent_dropout=0.4)\n",
    "encoder_lstm3 = LSTM(hidden_size, return_state=True, return_sequences=True, dropout=0.4)\n",
    "encoder_outputs, state_h, state_c= encoder_lstm3(encoder_output2)"
   ]
  },
  {
   "cell_type": "markdown",
   "id": "9b1ae024",
   "metadata": {},
   "source": [
    "### decoder 모델"
   ]
  },
  {
   "cell_type": "code",
   "execution_count": 54,
   "id": "b9d0c208",
   "metadata": {},
   "outputs": [],
   "source": [
    "# 디코더 설계\n",
    "decoder_inputs = Input(shape=(None,))\n",
    "\n",
    "# 디코더의 임베딩 층\n",
    "dec_emb_layer = Embedding(tar_vocab, embedding_dim)\n",
    "dec_emb = dec_emb_layer(decoder_inputs)\n",
    "\n",
    "# 디코더의 LSTM\n",
    "# decoder_lstm = LSTM(hidden_size, return_sequences=True, return_state=True, dropout=0.4, recurrent_dropout=0.2)\n",
    "decoder_lstm = LSTM(hidden_size, return_sequences=True, return_state=True, dropout=0.4)\n",
    "decoder_outputs, _, _ = decoder_lstm(dec_emb, initial_state=[state_h, state_c])"
   ]
  },
  {
   "cell_type": "code",
   "execution_count": 55,
   "id": "b76e5617",
   "metadata": {},
   "outputs": [
    {
     "name": "stdout",
     "output_type": "stream",
     "text": [
      "Model: \"model\"\n",
      "__________________________________________________________________________________________________\n",
      "Layer (type)                    Output Shape         Param #     Connected to                     \n",
      "==================================================================================================\n",
      "input_2 (InputLayer)            [(None, 50)]         0                                            \n",
      "__________________________________________________________________________________________________\n",
      "embedding_1 (Embedding)         (None, 50, 128)      1024000     input_2[0][0]                    \n",
      "__________________________________________________________________________________________________\n",
      "lstm_1 (LSTM)                   [(None, 50, 256), (N 394240      embedding_1[0][0]                \n",
      "__________________________________________________________________________________________________\n",
      "input_3 (InputLayer)            [(None, None)]       0                                            \n",
      "__________________________________________________________________________________________________\n",
      "lstm_2 (LSTM)                   [(None, 50, 256), (N 525312      lstm_1[0][0]                     \n",
      "__________________________________________________________________________________________________\n",
      "embedding_2 (Embedding)         (None, None, 128)    256000      input_3[0][0]                    \n",
      "__________________________________________________________________________________________________\n",
      "lstm_3 (LSTM)                   [(None, 50, 256), (N 525312      lstm_2[0][0]                     \n",
      "__________________________________________________________________________________________________\n",
      "lstm_4 (LSTM)                   [(None, None, 256),  394240      embedding_2[0][0]                \n",
      "                                                                 lstm_3[0][1]                     \n",
      "                                                                 lstm_3[0][2]                     \n",
      "__________________________________________________________________________________________________\n",
      "dense (Dense)                   (None, None, 2000)   514000      lstm_4[0][0]                     \n",
      "==================================================================================================\n",
      "Total params: 3,633,104\n",
      "Trainable params: 3,633,104\n",
      "Non-trainable params: 0\n",
      "__________________________________________________________________________________________________\n"
     ]
    }
   ],
   "source": [
    "# 디코더의 출력층\n",
    "decoder_softmax_layer = Dense(tar_vocab, activation='softmax')\n",
    "decoder_softmax_outputs = decoder_softmax_layer(decoder_outputs) \n",
    "\n",
    "# 모델 정의\n",
    "model = Model([encoder_inputs, decoder_inputs], decoder_softmax_outputs)\n",
    "model.summary()"
   ]
  },
  {
   "cell_type": "markdown",
   "id": "9f2e78ea",
   "metadata": {},
   "source": [
    "### 어텐션 모델"
   ]
  },
  {
   "cell_type": "code",
   "execution_count": 56,
   "id": "caea3d0b",
   "metadata": {},
   "outputs": [
    {
     "name": "stdout",
     "output_type": "stream",
     "text": [
      "Model: \"model_1\"\n",
      "__________________________________________________________________________________________________\n",
      "Layer (type)                    Output Shape         Param #     Connected to                     \n",
      "==================================================================================================\n",
      "input_2 (InputLayer)            [(None, 50)]         0                                            \n",
      "__________________________________________________________________________________________________\n",
      "embedding_1 (Embedding)         (None, 50, 128)      1024000     input_2[0][0]                    \n",
      "__________________________________________________________________________________________________\n",
      "lstm_1 (LSTM)                   [(None, 50, 256), (N 394240      embedding_1[0][0]                \n",
      "__________________________________________________________________________________________________\n",
      "input_3 (InputLayer)            [(None, None)]       0                                            \n",
      "__________________________________________________________________________________________________\n",
      "lstm_2 (LSTM)                   [(None, 50, 256), (N 525312      lstm_1[0][0]                     \n",
      "__________________________________________________________________________________________________\n",
      "embedding_2 (Embedding)         (None, None, 128)    256000      input_3[0][0]                    \n",
      "__________________________________________________________________________________________________\n",
      "lstm_3 (LSTM)                   [(None, 50, 256), (N 525312      lstm_2[0][0]                     \n",
      "__________________________________________________________________________________________________\n",
      "lstm_4 (LSTM)                   [(None, None, 256),  394240      embedding_2[0][0]                \n",
      "                                                                 lstm_3[0][1]                     \n",
      "                                                                 lstm_3[0][2]                     \n",
      "__________________________________________________________________________________________________\n",
      "attention_layer (AdditiveAttent (None, None, 256)    256         lstm_4[0][0]                     \n",
      "                                                                 lstm_3[0][0]                     \n",
      "__________________________________________________________________________________________________\n",
      "concat_layer (Concatenate)      (None, None, 512)    0           lstm_4[0][0]                     \n",
      "                                                                 attention_layer[0][0]            \n",
      "__________________________________________________________________________________________________\n",
      "dense_1 (Dense)                 (None, None, 2000)   1026000     concat_layer[0][0]               \n",
      "==================================================================================================\n",
      "Total params: 4,145,360\n",
      "Trainable params: 4,145,360\n",
      "Non-trainable params: 0\n",
      "__________________________________________________________________________________________________\n"
     ]
    }
   ],
   "source": [
    "from tensorflow.keras.layers import AdditiveAttention\n",
    "\n",
    "# 어텐션 층(어텐션 함수)\n",
    "attn_layer = AdditiveAttention(name='attention_layer')\n",
    "\n",
    "# 인코더와 디코더의 모든 time step의 hidden state를 어텐션 층에 전달하고 결과를 리턴\n",
    "attn_out = attn_layer([decoder_outputs, encoder_outputs])\n",
    "\n",
    "\n",
    "# 어텐션의 결과와 디코더의 hidden state들을 연결\n",
    "decoder_concat_input = Concatenate(axis=-1, name='concat_layer')([decoder_outputs, attn_out])\n",
    "\n",
    "# 디코더의 출력층\n",
    "decoder_softmax_layer = Dense(tar_vocab, activation='softmax')\n",
    "decoder_softmax_outputs = decoder_softmax_layer(decoder_concat_input)\n",
    "\n",
    "# 모델 정의\n",
    "model = Model([encoder_inputs, decoder_inputs], decoder_softmax_outputs)\n",
    "model.summary()"
   ]
  },
  {
   "cell_type": "markdown",
   "id": "75a4cb75",
   "metadata": {},
   "source": [
    "#### 모델 훈련"
   ]
  },
  {
   "cell_type": "code",
   "execution_count": 65,
   "id": "0d5a3994",
   "metadata": {
    "scrolled": true
   },
   "outputs": [
    {
     "name": "stdout",
     "output_type": "stream",
     "text": [
      "Epoch 1/50\n",
      "85/85 [==============================] - 12s 83ms/step - loss: 0.7990 - val_loss: 4.1768\n",
      "Epoch 2/50\n",
      "85/85 [==============================] - 6s 71ms/step - loss: 0.7493 - val_loss: 4.1788\n",
      "Epoch 3/50\n",
      "85/85 [==============================] - 6s 71ms/step - loss: 0.7333 - val_loss: 4.2168\n",
      "Epoch 4/50\n",
      "85/85 [==============================] - 6s 72ms/step - loss: 0.7201 - val_loss: 4.2258\n",
      "Epoch 5/50\n",
      "85/85 [==============================] - 6s 72ms/step - loss: 0.7041 - val_loss: 4.2457\n",
      "Epoch 6/50\n",
      "85/85 [==============================] - 6s 71ms/step - loss: 0.6914 - val_loss: 4.2693\n",
      "Epoch 7/50\n",
      "85/85 [==============================] - 6s 71ms/step - loss: 0.6762 - val_loss: 4.2833\n",
      "Epoch 8/50\n",
      "85/85 [==============================] - 6s 71ms/step - loss: 0.6631 - val_loss: 4.3125\n",
      "Epoch 9/50\n",
      "85/85 [==============================] - 6s 70ms/step - loss: 0.6478 - val_loss: 4.3295\n",
      "Epoch 10/50\n",
      "85/85 [==============================] - 6s 70ms/step - loss: 0.6392 - val_loss: 4.3593\n",
      "Epoch 11/50\n",
      "85/85 [==============================] - 6s 70ms/step - loss: 0.6227 - val_loss: 4.3542\n",
      "Epoch 12/50\n",
      "85/85 [==============================] - 6s 70ms/step - loss: 0.6148 - val_loss: 4.3762\n",
      "Epoch 13/50\n",
      "85/85 [==============================] - 6s 70ms/step - loss: 0.6038 - val_loss: 4.3921\n",
      "Epoch 14/50\n",
      "85/85 [==============================] - 6s 71ms/step - loss: 0.5923 - val_loss: 4.4195\n",
      "Epoch 15/50\n",
      "85/85 [==============================] - 6s 71ms/step - loss: 0.5790 - val_loss: 4.4312\n",
      "Epoch 16/50\n",
      "85/85 [==============================] - 6s 71ms/step - loss: 0.5688 - val_loss: 4.4520\n",
      "Epoch 17/50\n",
      "85/85 [==============================] - 6s 71ms/step - loss: 0.5630 - val_loss: 4.4701\n",
      "Epoch 18/50\n",
      "85/85 [==============================] - 6s 71ms/step - loss: 0.5498 - val_loss: 4.4848\n",
      "Epoch 19/50\n",
      "85/85 [==============================] - 6s 71ms/step - loss: 0.5390 - val_loss: 4.5058\n",
      "Epoch 20/50\n",
      "85/85 [==============================] - 6s 71ms/step - loss: 0.5291 - val_loss: 4.5167\n",
      "Epoch 21/50\n",
      "85/85 [==============================] - 6s 71ms/step - loss: 0.5190 - val_loss: 4.5361\n",
      "Epoch 22/50\n",
      "85/85 [==============================] - 6s 71ms/step - loss: 0.5104 - val_loss: 4.5572\n",
      "Epoch 23/50\n",
      "85/85 [==============================] - 6s 71ms/step - loss: 0.5012 - val_loss: 4.5624\n",
      "Epoch 24/50\n",
      "85/85 [==============================] - 6s 71ms/step - loss: 0.4918 - val_loss: 4.5781\n",
      "Epoch 25/50\n",
      "85/85 [==============================] - 6s 70ms/step - loss: 0.4858 - val_loss: 4.6176\n",
      "Epoch 26/50\n",
      "85/85 [==============================] - 6s 71ms/step - loss: 0.4775 - val_loss: 4.6272\n",
      "Epoch 27/50\n",
      "85/85 [==============================] - 6s 71ms/step - loss: 0.4709 - val_loss: 4.6399\n",
      "Epoch 28/50\n",
      "85/85 [==============================] - 6s 71ms/step - loss: 0.4624 - val_loss: 4.6578\n",
      "Epoch 29/50\n",
      "85/85 [==============================] - 6s 71ms/step - loss: 0.4518 - val_loss: 4.6620\n",
      "Epoch 30/50\n",
      "85/85 [==============================] - 6s 71ms/step - loss: 0.4477 - val_loss: 4.6808\n",
      "Epoch 31/50\n",
      "85/85 [==============================] - 6s 71ms/step - loss: 0.4386 - val_loss: 4.7128\n",
      "Epoch 32/50\n",
      "85/85 [==============================] - 6s 71ms/step - loss: 0.4306 - val_loss: 4.7170\n",
      "Epoch 33/50\n",
      "85/85 [==============================] - 6s 71ms/step - loss: 0.4272 - val_loss: 4.7437\n",
      "Epoch 34/50\n",
      "85/85 [==============================] - 6s 71ms/step - loss: 0.4172 - val_loss: 4.7289\n",
      "Epoch 35/50\n",
      "85/85 [==============================] - 6s 71ms/step - loss: 0.4088 - val_loss: 4.7678\n",
      "Epoch 36/50\n",
      "85/85 [==============================] - 6s 71ms/step - loss: 0.4033 - val_loss: 4.7800\n",
      "Epoch 37/50\n",
      "85/85 [==============================] - 6s 71ms/step - loss: 0.3997 - val_loss: 4.7973\n",
      "Epoch 38/50\n",
      "85/85 [==============================] - 6s 70ms/step - loss: 0.3919 - val_loss: 4.8247\n",
      "Epoch 39/50\n",
      "85/85 [==============================] - 6s 71ms/step - loss: 0.3861 - val_loss: 4.8221\n",
      "Epoch 40/50\n",
      "85/85 [==============================] - 6s 71ms/step - loss: 0.3804 - val_loss: 4.8423\n",
      "Epoch 41/50\n",
      "85/85 [==============================] - 6s 71ms/step - loss: 0.3766 - val_loss: 4.8588\n",
      "Epoch 42/50\n",
      "85/85 [==============================] - 6s 71ms/step - loss: 0.3693 - val_loss: 4.8672\n",
      "Epoch 43/50\n",
      "85/85 [==============================] - 6s 71ms/step - loss: 0.3647 - val_loss: 4.8930\n",
      "Epoch 44/50\n",
      "85/85 [==============================] - 6s 71ms/step - loss: 0.3589 - val_loss: 4.8882\n",
      "Epoch 45/50\n",
      "85/85 [==============================] - 6s 71ms/step - loss: 0.3516 - val_loss: 4.9135\n",
      "Epoch 46/50\n",
      "85/85 [==============================] - 6s 71ms/step - loss: 0.3487 - val_loss: 4.9285\n",
      "Epoch 47/50\n",
      "85/85 [==============================] - 6s 71ms/step - loss: 0.3418 - val_loss: 4.9475\n",
      "Epoch 48/50\n",
      "85/85 [==============================] - 6s 71ms/step - loss: 0.3396 - val_loss: 4.9516\n",
      "Epoch 49/50\n",
      "85/85 [==============================] - 6s 71ms/step - loss: 0.3336 - val_loss: 4.9722\n",
      "Epoch 50/50\n",
      "85/85 [==============================] - 6s 71ms/step - loss: 0.3297 - val_loss: 4.9901\n"
     ]
    }
   ],
   "source": [
    "model.compile(optimizer='rmsprop', loss='sparse_categorical_crossentropy')\n",
    "es = EarlyStopping(monitor='val_loss', patience=2, verbose=1)\n",
    "history = model.fit(x=[encoder_input_train, decoder_input_train], y=decoder_target_train, \\\n",
    "          validation_data=([encoder_input_test, decoder_input_test], decoder_target_test), \\\n",
    "          batch_size=256, epochs=50)"
   ]
  },
  {
   "cell_type": "markdown",
   "id": "6d11cef2",
   "metadata": {},
   "source": [
    "#### train/test loss 비교"
   ]
  },
  {
   "cell_type": "code",
   "execution_count": 66,
   "id": "9f5c700c",
   "metadata": {},
   "outputs": [
    {
     "data": {
      "image/png": "[encoded data removed]",
      "text/plain": [
       "<Figure size 432x288 with 1 Axes>"
      ]
     },
     "metadata": {
      "needs_background": "light"
     },
     "output_type": "display_data"
    }
   ],
   "source": [
    "plt.plot(history.history['loss'], label='train')\n",
    "plt.plot(history.history['val_loss'], label='test')\n",
    "plt.legend()\n",
    "plt.show()"
   ]
  },
  {
   "cell_type": "code",
   "execution_count": 81,
   "id": "2fc4277d",
   "metadata": {},
   "outputs": [],
   "source": [
    "src_index_to_word = src_tokenizer.index_word # 원문 단어 집합에서 정수 -> 단어를 얻음\n",
    "tar_word_to_index = tar_tokenizer.word_index # 요약 단어 집합에서 단어 -> 정수를 얻음\n",
    "tar_index_to_word = tar_tokenizer.index_word # 요약 단어 집합에서 정수 -> 단어를 얻음\n",
    "\n"
   ]
  },
  {
   "cell_type": "markdown",
   "id": "f19a731f",
   "metadata": {},
   "source": [
    "#### 예측모델 설계"
   ]
  },
  {
   "cell_type": "markdown",
   "id": "d68eb47c",
   "metadata": {},
   "source": [
    "#### 인코더 모델"
   ]
  },
  {
   "cell_type": "code",
   "execution_count": 68,
   "id": "f3b8e47b",
   "metadata": {},
   "outputs": [
    {
     "name": "stdout",
     "output_type": "stream",
     "text": [
      "=3\n"
     ]
    }
   ],
   "source": [
    "# 인코더 설계\n",
    "encoder_model = Model(inputs=encoder_inputs, outputs=[encoder_outputs, state_h, state_c])\n",
    "\n",
    "# 이전 시점의 상태들을 저장하는 텐서\n",
    "decoder_state_input_h = Input(shape=(hidden_size,))\n",
    "decoder_state_input_c = Input(shape=(hidden_size,))\n",
    "\n",
    "dec_emb2 = dec_emb_layer(decoder_inputs)\n",
    "\n",
    "# 문장의 다음 단어를 예측하기 위해서 초기 상태(initial_state)를 이전 시점의 상태로 사용. 이는 뒤의 함수 decode_sequence()에 구현\n",
    "# 훈련 과정에서와 달리 LSTM의 리턴하는 은닉 상태와 셀 상태인 state_h와 state_c를 버리지 않음.\n",
    "decoder_outputs2, state_h2, state_c2 = decoder_lstm(dec_emb2, initial_state=[decoder_state_input_h, decoder_state_input_c])\n",
    "\n",
    "print('=3')"
   ]
  },
  {
   "cell_type": "markdown",
   "id": "7bafd72c",
   "metadata": {},
   "source": [
    "#### 디코더 모델"
   ]
  },
  {
   "cell_type": "code",
   "execution_count": 69,
   "id": "a3630833",
   "metadata": {},
   "outputs": [
    {
     "name": "stdout",
     "output_type": "stream",
     "text": [
      "=3\n"
     ]
    }
   ],
   "source": [
    "# 어텐션 함수\n",
    "decoder_hidden_state_input = Input(shape=(text_max_len, hidden_size))\n",
    "attn_out_inf = attn_layer([decoder_outputs2, decoder_hidden_state_input])\n",
    "decoder_inf_concat = Concatenate(axis=-1, name='concat')([decoder_outputs2, attn_out_inf])\n",
    "\n",
    "# 디코더의 출력층\n",
    "decoder_outputs2 = decoder_softmax_layer(decoder_inf_concat) \n",
    "\n",
    "# 최종 디코더 모델\n",
    "decoder_model = Model(\n",
    "    [decoder_inputs] + [decoder_hidden_state_input,decoder_state_input_h, decoder_state_input_c],\n",
    "    [decoder_outputs2] + [state_h2, state_c2])\n",
    "\n",
    "print('=3')"
   ]
  },
  {
   "cell_type": "markdown",
   "id": "6d0dc61c",
   "metadata": {},
   "source": [
    "#### 뉴스 요약 함수"
   ]
  },
  {
   "cell_type": "code",
   "execution_count": 70,
   "id": "6f69fc30",
   "metadata": {},
   "outputs": [
    {
     "name": "stdout",
     "output_type": "stream",
     "text": [
      "=3\n"
     ]
    }
   ],
   "source": [
    "def decode_sequence(input_seq):\n",
    "    # 입력으로부터 인코더의 상태를 얻음\n",
    "    e_out, e_h, e_c = encoder_model.predict(input_seq)\n",
    "\n",
    "     # <SOS>에 해당하는 토큰 생성\n",
    "    target_seq = np.zeros((1,1))\n",
    "    target_seq[0, 0] = tar_word_to_index['sostoken']\n",
    "\n",
    "    stop_condition = False\n",
    "    decoded_sentence = ''\n",
    "    while not stop_condition: # stop_condition이 True가 될 때까지 루프 반복\n",
    "\n",
    "        output_tokens, h, c = decoder_model.predict([target_seq] + [e_out, e_h, e_c])\n",
    "        sampled_token_index = np.argmax(output_tokens[0, -1, :])\n",
    "        sampled_token = tar_index_to_word[sampled_token_index]\n",
    "\n",
    "        if (sampled_token!='eostoken'):\n",
    "            decoded_sentence += ' '+sampled_token\n",
    "\n",
    "        #  <eos>에 도달하거나 최대 길이를 넘으면 중단.\n",
    "        if (sampled_token == 'eostoken'  or len(decoded_sentence.split()) >= (summary_max_len-1)):\n",
    "            stop_condition = True\n",
    "\n",
    "        # 길이가 1인 타겟 시퀀스를 업데이트\n",
    "        target_seq = np.zeros((1,1))\n",
    "        target_seq[0, 0] = sampled_token_index\n",
    "\n",
    "        # 상태를 업데이트 합니다.\n",
    "        e_h, e_c = h, c\n",
    "\n",
    "    return decoded_sentence\n",
    "print('=3')"
   ]
  },
  {
   "cell_type": "markdown",
   "id": "19f890a6",
   "metadata": {},
   "source": [
    "#### 정수를 문자로 요약문을 문자로 변환하는 함수"
   ]
  },
  {
   "cell_type": "code",
   "execution_count": 71,
   "id": "20b2153c",
   "metadata": {},
   "outputs": [
    {
     "name": "stdout",
     "output_type": "stream",
     "text": [
      "=3\n"
     ]
    }
   ],
   "source": [
    "# 원문의 정수 시퀀스를 텍스트 시퀀스로 변환\n",
    "def seq2text(input_seq):\n",
    "    temp=''\n",
    "    for i in input_seq:\n",
    "        if (i!=0):\n",
    "            temp = temp + src_index_to_word[i]+' '\n",
    "    return temp\n",
    "\n",
    "# 요약문의 정수 시퀀스를 텍스트 시퀀스로 변환\n",
    "def seq2summary(input_seq):\n",
    "    temp=''\n",
    "    for i in input_seq:\n",
    "        if ((i!=0 and i!=tar_word_to_index['sostoken']) and i!=tar_word_to_index['eostoken']):\n",
    "            temp = temp + tar_index_to_word[i] + ' '\n",
    "    return temp\n",
    "\n",
    "print('=3')"
   ]
  },
  {
   "cell_type": "code",
   "execution_count": 72,
   "id": "4f31c0fc",
   "metadata": {
    "scrolled": true
   },
   "outputs": [
    {
     "name": "stdout",
     "output_type": "stream",
     "text": [
      "원문 : following us secretary state mike pompeo visit country north korea accused us making demands talks nuclear program us side came gangster like demand denuclearisation north korean foreign ministry spokesman said however pompeo said two days talks \n",
      "실제 요약 : korea slams us demands following nuclear talks \n",
      "예측 요약 :  us to north korea to us\n",
      "\n",
      "\n",
      "원문 : video shows thermal power plant china province demolished seconds structure two metre tall square metre tower built plant provided power surrounding area residents requested due concerns industrial waste discharged area \n",
      "실제 요약 : video chinese power plant in seconds \n",
      "예측 요약 :  on mars south\n",
      "\n",
      "\n",
      "원문 : technology major samsung reportedly revealed first foldable smartphone private meeting tech show ces reports also suggest samsung developed inch foldable panel plans start production later year samsung showcased two versions foldable device one reports added \n",
      "실제 요약 : samsung unveils smartphone report \n",
      "예측 요약 :  apple confirms iphone music\n",
      "\n",
      "\n",
      "원문 : federal bureau investigation deputy director andrew resigned post amid accusations political us president donald trump comes reports claimed trump wanted fire reportedly quit fbi director christopher citing upcoming investigation agency work presidential campaign \n",
      "실제 요약 : deputy director quits amid criticism by trump \n",
      "예측 요약 :  charged with trump post clinton\n",
      "\n",
      "\n",
      "원문 : facebook coo sheryl sandberg event earlier week talking sexual harassment said cannot harvey weinstein like behaviour also said people around know anything last week hollywood producer harvey weinstein accused sexually harassing actresses decades \n",
      "실제 요약 : cannot weinstein like behaviour facebook \n",
      "예측 요약 :  sexual harassment claim against centre\n",
      "\n",
      "\n",
      "원문 : according released republic tv death shashi tharoor wife dead body allegedly moved room number delhi leela hotel tharoor aide narayan claimed couple fought entire night death channel also alleged body \n",
      "실제 요약 : what do tv murder \n",
      "예측 요약 :  in pictures sanjay salman birthday\n",
      "\n",
      "\n",
      "원문 : ousted aiadmk chief vk sasikala returned bengaluru central jail thursday five day parole came end sasikala visited husband underwent liver kidney five days parole restricted participating political activities interacting media personnel period \n",
      "실제 요약 : sasikala day to meet husband ends \n",
      "예측 요약 :  jailed for assaulting daughter mother\n",
      "\n",
      "\n",
      "원문 : television show host comedian kapil sharma said better following earlier week hospitalised complained shooting upcoming episode kapil sharma show source revealed kapil reportedly taken sunil grover quitting show personal professional blow \n",
      "실제 요약 : am better now kapil sharma after being hospitalised \n",
      "예측 요약 :  kapil sharma show as report\n",
      "\n",
      "\n",
      "원문 : wedding invitation couple madhya pradesh printed format aadhaar card along details wedding invite also messages get aadhaar card made dowry free india campaign card designed bride father wanted raise awareness document importance \n",
      "실제 요약 : mp couple wedding after aadhaar card \n",
      "예측 요약 :  from airline for aadhaar\n",
      "\n",
      "\n",
      "원문 : devendra fadnavis led maharashtra government sunday announced complete loan waiver small farmers immediate effect stating approval given loan waivers farmers conditions state revenue minister said committee formed decide conditions following announcement farmers suspended strike \n",
      "실제 요약 : maharashtra announces complete loan for farmers \n",
      "예측 요약 :  maharashtra farmers to get farmers to maharashtra\n",
      "\n",
      "\n",
      "원문 : paradise papers leak revealed funds amounting billion allegedly diverted using four offshore subsidiaries united limited india vijay mallya owned company acquired process get rid three subsidiaries ended debts firms \n",
      "실제 요약 : papers money by mallya firm \n",
      "예측 요약 :  india crore by\n",
      "\n",
      "\n",
      "원문 : yoga guru turned businessman baba ramdev wednesday said company patanjali ayurved need crore expand production capacity patanjali revenue ramdev said said dream see patanjali largest goods company world \n",
      "실제 요약 : patanjali needs crore to support ramdev \n",
      "예측 요약 :  to invest crore in\n",
      "\n",
      "\n",
      "원문 : private lender mahindra bank monday crossed trillion market capitalisation first time stock surged time high makes fourth listed bank st company achieve mark india hdfc bank valued bank india market capitalisation trillion \n",
      "실제 요약 : mahindra bank crosses market of trillion \n",
      "예측 요약 :  which is the world highest paid survey\n",
      "\n",
      "\n",
      "원문 : andhra pradesh recorded almost lightning hour period tuesday meteorological instrument maker revealed disaster management officials said number high state reportedly recorded lightning entire month may nine people killed since tuesday due lightning \n",
      "실제 요약 : andhra pradesh records lightning in hours \n",
      "예측 요약 :  kerala most cases of in\n",
      "\n",
      "\n",
      "원문 : jet airways reportedly delayed salaries nearly employees airline plans cut costs tune crore said committed honour towards employees already paid salaries time salary delay within higher pay including pilots \n",
      "실제 요약 : jet airways delays of nearly employees report \n",
      "예측 요약 :  jet airways booked for bank\n",
      "\n",
      "\n",
      "원문 : twenty six year old pacer became expensive indian player sold ipl auction rajasthan royals bought crore sunday meanwhile south african pacer went auction former world number one odi bowler new zealand sold delhi daredevils crore \n",
      "실제 요약 : indian at ipl auction at crore \n",
      "예측 요약 :  world nd most expensive footballer for cr\n",
      "\n",
      "\n",
      "원문 : european food delivery startup backed rocket internet delivery hero announced plans raise million public listing stock exchange said biggest ipo germany comes naspers invested million delivery hero last month six year old delivery hero says services cover countries worldwide \n",
      "실제 요약 : delivery announces plan for germany biggest \n",
      "예측 요약 :  backed buys india may\n",
      "\n",
      "\n",
      "원문 : haryana police monday found body parts woman near sugar area preliminary reports indicated woman body pieces murdered police said cannot rule sexual assault could said post mortem \n",
      "실제 요약 : woman body found in haryana \n",
      "예측 요약 :  police opens in\n",
      "\n",
      "\n",
      "원문 : according reports actor aamir khan upcoming production mahabharata budget crore reports added reliance industries chairman mukesh ambani co producing film mahabharata franchise likely made three five parts directed different filmmakers \n",
      "실제 요약 : aamir to have budget of cr reports \n",
      "예측 요약 :  salman race crore to priyanka reports\n",
      "\n",
      "\n",
      "원문 : bihar board class topper ganesh kumar since results declared tuesday according report birth year admission form making years old form permanent address kilometres away school moreover secured music theory \n",
      "실제 요약 : bihar class missing after results scam suspected \n",
      "예측 요약 :  bihar class board to questions\n",
      "\n",
      "\n",
      "원문 : mit designed pocket sized charged particles formed cosmic rays events like stellar explosions earth atmosphere costing build said affordable available device consists plastic silicon among parts \n",
      "실제 요약 : mit team \n",
      "예측 요약 :  us researchers turn into\n",
      "\n",
      "\n",
      "원문 : us president donald trump thursday retweeted tweet former president barack obama spoke illegal immigration totally trump wrote along obama tweet comes amid partial us government shutdown imposed opposition trump demand billion mexico border wall \n",
      "실제 요약 : trump on obama illegal tweet \n",
      "예측 요약 :  twitter reacts to trump anti obama\n",
      "\n",
      "\n",
      "원문 : open source software community released new version browser patch discovered earlier week two could allow hackers steal data including user passwords personal photos messages apple also confirmed bug fixed december update \n",
      "실제 요약 : releases for in \n",
      "예측 요약 :  museum of\n",
      "\n",
      "\n",
      "원문 : chinese police arrested individuals including apple employees allegedly selling iphone user data workers searched internal apple database information apple phone numbers sold dark web reportedly million authorities stepped \n",
      "실제 요약 : apple employees arrested for selling iphone users data \n",
      "예측 요약 :  chinese apple who has iphone\n",
      "\n",
      "\n",
      "원문 : union cabinet thursday approved setting national mission three year budget crore target problems low birth weight babies women child development ministry said government committed ensuring every child pregnant woman mother provided adequate \n",
      "실제 요약 : cabinet approves up of national mission \n",
      "예측 요약 :  assam cabinet approves crore for\n",
      "\n",
      "\n",
      "원문 : indian army soldier martyred another critically injured following ceasefire violation pakistani troops along loc jammu kashmir monday martyred soldier naik sebastian km survived wife defence ministry said nation always remain supreme duty \n",
      "실제 요약 : soldier martyred in ceasefire by pakistan in \n",
      "예측 요약 :  army kills in pak kills ceasefire\n",
      "\n",
      "\n",
      "원문 : image board class th showing mosque noise pollution source sparked outrage social media image shows train car plane mosque symbols depicting loud sound next man shutting board officials available comments apologised image \n",
      "실제 요약 : showing mosque as \n",
      "예측 요약 :  video of in africa\n",
      "\n",
      "\n",
      "원문 : fashion brand brands uk parent company co owned retired english footballer david beckham reported loss million beckham became business partner fashion line comes weeks wife victoria beckham fashion label posted loss million period \n",
      "실제 요약 : david fashion brand posts mn loss for \n",
      "예측 요약 :  to for business music\n",
      "\n",
      "\n",
      "원문 : trailer michael jordan starrer ii released film sequel film eighth film series directed jr also starring film scheduled release november \n",
      "실제 요약 : trailer of michael released \n",
      "예측 요약 :  trailer of film the released\n",
      "\n",
      "\n",
      "원문 : spending days aboard international space station rd set crew members nasa sergey landed kazakhstan completing two iss missions days respectively space days space three flights \n",
      "실제 요약 : space station astronauts return to earth after days \n",
      "예측 요약 :  completes years from two in space\n",
      "\n",
      "\n",
      "원문 : stepped director superhero film justice league support family following daughter suicide march said planned making news public earlier required shoot film uk decided step avengers director direct remaining scenes \n",
      "실제 요약 : director quits justice league after daughter suicide \n",
      "예측 요약 :  offers lakh for rumoured boyfriend\n",
      "\n",
      "\n",
      "원문 : malaysian prime minister said body kim jong half brother north korean leader kim jong un released north korea request family barred leaving north korea given permission return north would allowed leave malaysia added \n",
      "실제 요약 : malaysia releases body of korean brother \n",
      "예측 요약 :  north korea calls us\n",
      "\n",
      "\n",
      "원문 : many people injured saturday five coaches passenger train derailed madhya pradesh district chief minister singh monitoring rescue operations given instructions administration chief minister office tweeted cause derailment yet known \n",
      "실제 요약 : injured after passenger train in madhya pradesh \n",
      "예측 요약 :  up after\n",
      "\n",
      "\n",
      "원문 : germany based designer made iphone similar colour scheme default background technology giant apple iphone smartphone priced around also features apple logo interestingly iphone starting price around \n",
      "실제 요약 : makes inspired by iphone \n",
      "예측 요약 :  smart for iphone\n",
      "\n",
      "\n",
      "원문 : union ministers narendra singh got charge additional portfolios tuesday following demise union minister kumar assigned charge ministry chemicals got additional charge ministry parliamentary affairs kumar passed away aged monday cancer \n",
      "실제 요약 : late kumar to union ministers \n",
      "예측 요약 :  minister deputy minister on new\n",
      "\n",
      "\n",
      "원문 : late actress pratyusha banerjee boyfriend rahul raj singh filed police complaint punjabi accusing tampering old video earlier tweeted teaser short film featuring pratyusha trying make money name dead person pratyusha make short film relationship said rahul \n",
      "실제 요약 : boyfriend files police complaint against \n",
      "예측 요약 :  director singh on sanjay\n",
      "\n",
      "\n",
      "원문 : us comedian host stephen gave donald trump nazi salute twice mocking ex white house aide steve comment president taking things higher level virginia violence also claimed visit hurricane hit texas trump meet single storm victim get near flooded street \n",
      "실제 요약 : gives trump over violence \n",
      "예측 요약 :  chinese media trump against white house\n",
      "\n",
      "\n",
      "원문 : west bengal chief minister mamata banerjee wednesday launched bjp quit india campaign alleging centre taken away rights people country bjp led government trying divide country allow want politics hatred come end mamata added \n",
      "실제 요약 : mamata launches bjp quit india campaign \n",
      "예측 요약 :  kerala cm takes on hold day\n",
      "\n",
      "\n",
      "원문 : prime accused murder case indrani mukerjea rushed mumbai hospital emergency ward condition friday mukerjea lodged byculla jail since later shifted critical care unit still observation reports said complained breathing difficulties police said \n",
      "실제 요약 : to hospital in state \n",
      "예측 요약 :  former kids missing up\n",
      "\n",
      "\n",
      "원문 : mumbai may soon start delivering addition current job delivering city main aim project increase income members mumbai association spokesperson subhash said see whether service delivery added \n",
      "실제 요약 : mumbai to start and \n",
      "예측 요약 :  mumbai to get new\n",
      "\n",
      "\n",
      "원문 : chinese commerce giant alibaba advanced talks buy significant minority stake pune based logistics startup making investment million according reports deal likely close next two three weeks reports added founded product retailer \n",
      "실제 요약 : alibaba may invest mn in indian startup \n",
      "예측 요약 :  alibaba buys stake in singapore for million\n",
      "\n",
      "\n",
      "원문 : former oscar injured prison brawl use public phone december officials said tuesday serving year jail term murder girlfriend fight started prisoners reportedly conversation \n",
      "실제 요약 : former injured in prison \n",
      "예측 요약 :  jail for in jail\n",
      "\n",
      "\n",
      "원문 : astronomers worldwide criticised launch ball satellite saying high would interfere study night sky launching satellites would bring astronomers street said new zealand based researchers said intentionally bright long term space another personal universe \n",
      "실제 요약 : astronomers launch of ball satellite \n",
      "예측 요약 :  solar powered report\n",
      "\n",
      "\n",
      "원문 : according reports actor marry girlfriend ankita air profession source quoted saying ankita almost half age massive age gap issue ankita family met ready age factor \n",
      "실제 요약 : to girlfriend in report \n",
      "예측 요약 :  priyanka denies reports of the daughter\n",
      "\n",
      "\n",
      "원문 : tdp chief andhra pradesh cm chandrababu naidu slamming bjp said people raising voice centre parties supporting bjp taught instead justice pm modi political attack alleging took turn naidu added statement comes modi government confidence motion friday \n",
      "실제 요약 : parties bjp should be \n",
      "예측 요약 :  chidambaram on his biggest cm\n",
      "\n",
      "\n",
      "원문 : according reports horror film third movie film series release july written previous two movies make directorial debut yet film also writing script new film \n",
      "실제 요약 : film to release in reports \n",
      "예측 요약 :  to get report\n",
      "\n",
      "\n",
      "원문 : condemning recent instances leaders statues various states vice president venkaiah naidu wednesday termed incidents told rajya sabha appropriate authorities take firm action guilty two statues communist icon tripura leader statue vandalised tamil nadu \n",
      "실제 요약 : of leaders vice president \n",
      "예측 요약 :  eating cannot president kovind\n",
      "\n",
      "\n",
      "원문 : weapon physicist laboratory california around video atmospheric nuclear tests conducted us physicist team film experts located around estimated films created testing films content lost forever \n",
      "실제 요약 : video of nuclear tests \n",
      "예측 요약 :  us releases black responsible for\n",
      "\n",
      "\n",
      "원문 : cbi judge hearing sheikh encounter case bjp president amit shah accused passed away december citing post mortem report nagpur police said judge died cardiac arrest however judge family claimed spotted blood shirt said may suffered head injury \n",
      "실제 요약 : what is the judge death case \n",
      "예측 요약 :  congress sends crore probe against brother\n",
      "\n",
      "\n",
      "원문 : study conducted massachusetts institute technology claims year old entrepreneur lie added new ventures highest growth average founder age less high performance startup firms founded year study analysed million people founded businesses least one employee \n",
      "실제 요약 : year old is claims mit study \n",
      "예측 요약 :  company based on smartphone\n",
      "\n",
      "\n"
     ]
    }
   ],
   "source": [
    "for i in range(50, 100):\n",
    "    print(\"원문 :\", seq2text(encoder_input_test[i]))\n",
    "    print(\"실제 요약 :\", seq2summary(decoder_input_test[i]))\n",
    "    print(\"예측 요약 :\", decode_sequence(encoder_input_test[i].reshape(1, text_max_len)))\n",
    "    print(\"\\n\")"
   ]
  },
  {
   "cell_type": "code",
   "execution_count": 74,
   "id": "d0011617",
   "metadata": {},
   "outputs": [],
   "source": [
    "import requests\n",
    "from summa.summarizer import summarize"
   ]
  },
  {
   "cell_type": "code",
   "execution_count": 75,
   "id": "412b028d",
   "metadata": {},
   "outputs": [],
   "source": [
    "text = requests.get('http://rare-technologies.com/the_matrix_synopsis.txt').text"
   ]
  },
  {
   "cell_type": "code",
   "execution_count": 76,
   "id": "bd7bf4ec",
   "metadata": {},
   "outputs": [
    {
     "name": "stdout",
     "output_type": "stream",
     "text": [
      "The screen is filled with green, cascading code which gives way to the title, The Matrix.\r\n",
      "\r\n",
      "A phone rings and text appears on the screen: \"Call trans opt: received. 2-19-98 13:24:18 REC: Log>\" As a conversation takes place between Trinity (Carrie-Anne Moss) and Cypher (Joe Pantoliano), two free humans, a table of random green numbers are being scanned and individual numbers selected, creating a series of digits not unlike an ordinary phone number, as if a code is being deciphered or a call is being traced.\r\n",
      "\r\n",
      "Trinity discusses some unknown person. Cypher taunts Trinity, suggesting she enjoys watching him. Trinity counters that \"Morpheus (Laurence Fishburne) says he may be 'the One',\" just as the sound of a number being selected alerts Trinity that someone may be tracing their call. She ends the call.\r\n",
      "\r\n",
      "Armed policemen move down a darkened, decrepit hallway in the Heart O' the City Hotel, their flashlight beam bouncing just ahead of them. They come to room 303, kick down the door and find a woman dressed in black, facing away from them. It's Trinity. She brings her hands up from the laptop she's working on at their command.\r\n",
      "\r\n",
      "Outside the hotel a car drives up and three agents appear in neatly pressed black suits. They are Agent Smith (Hugo Weaving), Agent Brown (Paul Goddard), and Agent Jones (Robert Taylor). Agent Smith and the presiding police lieutenant argue. Agent Smith admonishes the policeman that they were given specific orders to contact the agents first, for their\n"
     ]
    }
   ],
   "source": [
    "print(text[:1500])"
   ]
  },
  {
   "cell_type": "code",
   "execution_count": 79,
   "id": "b094947c",
   "metadata": {},
   "outputs": [
    {
     "name": "stdout",
     "output_type": "stream",
     "text": [
      "Summary:\n",
      "['Morpheus, Trinity, Neo, Apoc, Switch, Mouse and Cypher are jacked into the Matrix.', 'Trinity brings the helicopter down to the floor that Morpheus is on and Neo opens fire on the three Agents.']\n"
     ]
    }
   ],
   "source": [
    "print('Summary:')\n",
    "print(summarize(text, ratio=0.005, split=True))"
   ]
  },
  {
   "cell_type": "code",
   "execution_count": 80,
   "id": "03b007fe",
   "metadata": {},
   "outputs": [
    {
     "name": "stdout",
     "output_type": "stream",
     "text": [
      "Summary:\n",
      "Trinity takes Neo to Morpheus.\n",
      "Morpheus, Trinity, Neo, Apoc, Switch, Mouse and Cypher are jacked into the Matrix.\n",
      "Trinity brings the helicopter down to the floor that Morpheus is on and Neo opens fire on the three Agents.\n"
     ]
    }
   ],
   "source": [
    "print('Summary:')\n",
    "print(summarize(text, words=50))"
   ]
  },
  {
   "cell_type": "markdown",
   "id": "f05b4762",
   "metadata": {},
   "source": [
    "## 회고\n",
    "\n",
    "1. Process Flow<br>\n",
    "----------------------------------------------데이터 준비 시작<br>\n",
    "- 훈련과테스트용 텍스트 로드하기 <br>\n",
    "- 불용어 등록<br>\n",
    "- 전처리<br>\n",
    "- vocab 사이즈지정<br>\n",
    "- 토크나이징을 통해서 단어사전을 만들고 이를 정수화<br>\n",
    "- 정수화된 훈련/테스트 데이터 셋 변수 선언 <br>\n",
    "-----------------------------------------------데이터 준비 끝<br>\n",
    "-----------------------------------------------모델구성<br>\n",
    "- 인코더 모델 설계<br>\n",
    "- 디코더 모델 설계<br>\n",
    "- 어텐션 모델 설계<br>\n",
    "-----------------------------------------------모델구성<br>\n",
    "- 모델 훈련 <br>\n",
    "- 예측모델 구성 <br>\n",
    "- 예측 인코더 모델 구성<br>\n",
    "- 예측 디코더 모델 구성<br>\n",
    "- 문장을 입력받고 요약해주는 함수 선언<br>\n",
    "- 현재 단어가 정수이므로 정수를 문자로 요약을 문자로 해주는 함수 선언<br>\n",
    "\n",
    "2.단어를 토크나이징하고 임베딩하여 딥러닝을 수행하도록 모델을 설계하고 어텐션을 통해서<br>\n",
    "  디코더에 단어를 출력하기 전 전체 문장을 한번 더 remind해주는 attention layer를 통해서<br>\n",
    "  출력을 할 수 있도록 디코더 각 단계에 제공해주는 역할을 attention에서 수행 <br>"
   ]
  }
 ],
 "metadata": {
  "kernelspec": {
   "display_name": "Python 3 (ipykernel)",
   "language": "python",
   "name": "python3"
  },
  "language_info": {
   "codemirror_mode": {
    "name": "ipython",
    "version": 3
   },
   "file_extension": ".py",
   "mimetype": "text/x-python",
   "name": "python",
   "nbconvert_exporter": "python",
   "pygments_lexer": "ipython3",
   "version": "3.9.7"
  }
 },
 "nbformat": 4,
 "nbformat_minor": 5
}
