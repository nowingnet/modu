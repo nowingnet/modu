{
 "cells": [
  {
   "cell_type": "markdown",
   "id": "feb41899",
   "metadata": {},
   "source": [
    "## 프로젝트: 멋진 작사가 만들기"
   ]
  },
  {
   "cell_type": "markdown",
   "id": "0a894359",
   "metadata": {},
   "source": [
    "### 라이브러리 로드"
   ]
  },
  {
   "cell_type": "code",
   "execution_count": 1,
   "id": "4b7c80ec",
   "metadata": {},
   "outputs": [],
   "source": [
    "import glob #glob모듈의 glob함수는 사용자가 제시한 조건에 맞는 파일명을 리스트형식으로 반환\n",
    "import tensorflow as tf\n",
    "import os, re"
   ]
  },
  {
   "cell_type": "markdown",
   "id": "ea1771eb",
   "metadata": {},
   "source": [
    "####  Step 2. 데이터 읽어오기"
   ]
  },
  {
   "cell_type": "code",
   "execution_count": 2,
   "id": "ee259a6a",
   "metadata": {},
   "outputs": [
    {
     "name": "stdout",
     "output_type": "stream",
     "text": [
      "데이터 크기: 187088\n",
      "Examples:\n",
      " [\"Busted flat in Baton Rouge, waitin' for a train\", \"And I's feelin' near as faded as my jeans\", 'Bobby thumbed a diesel down, just before it rained']\n"
     ]
    }
   ],
   "source": [
    "txt_file_path = os.getenv(\"HOME\")+'/aiffel/lyricist/data/lyrics/*'\n",
    "\n",
    "txt_list = glob.glob(txt_file_path)\n",
    "\n",
    "raw_corpus = []\n",
    "\n",
    "for txt_file in txt_list:\n",
    "    with open(txt_file, \"r\") as f:\n",
    "        raw = f.read().splitlines()\n",
    "        raw_corpus.extend(raw)\n",
    "print(\"데이터 크기:\", len(raw_corpus))\n",
    "print(\"Examples:\\n\", raw_corpus[:3])"
   ]
  },
  {
   "cell_type": "markdown",
   "id": "dc425ab3",
   "metadata": {},
   "source": [
    "#### Step3.데이터 정제"
   ]
  },
  {
   "cell_type": "code",
   "execution_count": 3,
   "id": "d0dd9014",
   "metadata": {},
   "outputs": [
    {
     "name": "stdout",
     "output_type": "stream",
     "text": [
      "(['this', '@_is', ';;;sample', 'sentence.'], '<start> this is sample sentence . <end>')\n"
     ]
    }
   ],
   "source": [
    "import sentencepiece as spm\n",
    "sp = spm.SentencePieceProcessor()\n",
    "\n",
    "def preprocess_sentence(sentence):\n",
    "    #일단 모두 소문자로 변환하고 양쪽 공백을 지웁니다.\n",
    "    sentence = sentence.lower().strip()   \n",
    "    tokens = sentence.split()\n",
    "   \n",
    "    # 아래 특수문자 기호 양쪽에 공백을 추가합니다.\n",
    "    sentence = re.sub(r\"([?.!,¿])\", r\" \\1 \", sentence) \n",
    "     # 공백이 많을 수 있는 부분에는 하나의 공백으로 통일합니다.\n",
    "    sentence = re.sub(r'[\" \"]+', \" \", sentence) \n",
    "     # \"\"안에 들어가있는 기호들 외에 공백으로 바꿉니다.\n",
    "    sentence = re.sub(r\"[^a-zA-Z?.!,¿]+\", \" \", sentence) \n",
    "    #다시 양쪽 공백을 지웁니다.\n",
    "    sentence = sentence.strip()\n",
    "    \n",
    "    # 문장 시작과 끝에 start와 end 를 추가합니다.\n",
    "    sentence = '<start> ' + sentence + ' <end>'   \n",
    "    \n",
    "    return tokens, sentence\n",
    "\n",
    "print(preprocess_sentence(\"This @_is ;;;sample        sentence.\"))"
   ]
  },
  {
   "cell_type": "code",
   "execution_count": 4,
   "id": "1993f03e",
   "metadata": {
    "scrolled": true
   },
   "outputs": [
    {
     "data": {
      "text/plain": [
       "['<start> busted flat in baton rouge , waitin for a train <end>',\n",
       " '<start> and i s feelin near as faded as my jeans <end>',\n",
       " '<start> bobby thumbed a diesel down , just before it rained <end>',\n",
       " '<start> i was playin soft while bobby sang the blues , yeah <end>',\n",
       " '<start> windshield wipers slappin time , i was holdin bobby s hand in mine <end>',\n",
       " '<start> nothin , don t mean nothin hon if it ain t free , no no <end>',\n",
       " '<start> and , feelin good was easy , lord , when he sang the blues <end>',\n",
       " '<start> you know , feelin good was good enough for me <end>',\n",
       " '<start> there bobby shared the secrets of my soul <end>',\n",
       " '<start> through all kinds of weather , through everything we done <end>']"
      ]
     },
     "execution_count": 4,
     "metadata": {},
     "output_type": "execute_result"
    }
   ],
   "source": [
    "corpus = []\n",
    "\n",
    "for sentence in raw_corpus:\n",
    "    if len(sentence) == 0: continue\n",
    "    if sentence[-1] == \":\": continue\n",
    "    tokens, preprocessed = preprocess_sentence(sentence)\n",
    "\n",
    "    if len(tokens) <= 15: \n",
    "        corpus.append(preprocessed)\n",
    "    \n",
    "corpus[:10]"
   ]
  },
  {
   "cell_type": "markdown",
   "id": "c4f1e572",
   "metadata": {},
   "source": [
    "토큰화 ( 문자에 숫자 매핑 )"
   ]
  },
  {
   "cell_type": "code",
   "execution_count": 5,
   "id": "fa8f8d11",
   "metadata": {},
   "outputs": [],
   "source": [
    "def tokenize(corpus):\n",
    "    tokenizer = tf.keras.preprocessing.text.Tokenizer(\n",
    "        num_words= 7000,\n",
    "        filters=' ',\n",
    "        oov_token=\"<unk>\"\n",
    "    )\n",
    "    tokenizer.fit_on_texts(corpus)\n",
    "    tensor = tokenizer.texts_to_sequences(corpus)\n",
    "    tensor = tf.keras.preprocessing.sequence.pad_sequences(tensor, padding='post')\n",
    "    \n",
    "    print(tensor, tokenizer)\n",
    "    \n",
    "    return tensor, tokenizer"
   ]
  },
  {
   "cell_type": "code",
   "execution_count": 6,
   "id": "8f48dade",
   "metadata": {
    "scrolled": true
   },
   "outputs": [
    {
     "name": "stdout",
     "output_type": "stream",
     "text": [
      "[[   2 4134 1770 ...    0    0    0]\n",
      " [   2    8    5 ...    0    0    0]\n",
      " [   2  838    1 ...    0    0    0]\n",
      " ...\n",
      " [   2    5   22 ...    0    0    0]\n",
      " [   2    5   22 ...    0    0    0]\n",
      " [   2    5   22 ...    0    0    0]] <keras_preprocessing.text.Tokenizer object at 0x7f18e9c96d00>\n"
     ]
    }
   ],
   "source": [
    "tensor, tokenizer = tokenize(corpus)"
   ]
  },
  {
   "cell_type": "code",
   "execution_count": 7,
   "id": "5d44dd90",
   "metadata": {
    "scrolled": true
   },
   "outputs": [],
   "source": [
    "src_input = tensor[:, :-1]\n",
    "tgt_input = tensor[:, 1:]\n"
   ]
  },
  {
   "cell_type": "markdown",
   "id": "0a013450",
   "metadata": {},
   "source": [
    "#### 평가 데이터셋 분리"
   ]
  },
  {
   "cell_type": "code",
   "execution_count": 8,
   "id": "06ee356e",
   "metadata": {
    "scrolled": true
   },
   "outputs": [
    {
     "name": "stdout",
     "output_type": "stream",
     "text": [
      "Source Train:  (134685, 32)\n",
      "Target Train:  (134685, 32)\n"
     ]
    }
   ],
   "source": [
    "from sklearn.model_selection import train_test_split\n",
    "\n",
    "enc_train, enc_val, dec_train, dec_val,  = train_test_split(src_input, \n",
    "                                                         tgt_input,\n",
    "                                                         test_size=0.2,\n",
    "                                                         shuffle=True,\n",
    "                                                         random_state = 34)\n",
    "print('Source Train: ', enc_train.shape)\n",
    "print('Target Train: ', dec_train.shape)"
   ]
  },
  {
   "cell_type": "code",
   "execution_count": 9,
   "id": "053b8317",
   "metadata": {},
   "outputs": [
    {
     "data": {
      "text/plain": [
       "<BatchDataset shapes: ((256, 32), (256, 32)), types: (tf.int32, tf.int32)>"
      ]
     },
     "execution_count": 9,
     "metadata": {},
     "output_type": "execute_result"
    }
   ],
   "source": [
    "BUFFER_SIZE = len(src_input)\n",
    "BATCH_SIZE = 256\n",
    "steps_per_epoch = len(src_input) // BATCH_SIZE\n",
    "\n",
    " # tokenizer가 구축한 단어사전 내 7000개와, 여기 포함되지 않은 0:<pad>를 포함하여 7001개\n",
    " # tokenizer.num_words: 주어진 데이터의 문장들에서 빈도수가 높은 n개의 단어만 선택\n",
    " # tokenize() 함수에서 num_words를 7000개로 선언했기 때문에, tokenizer.num_words의 값은 7000\n",
    "VOCAB_SIZE = tokenizer.num_words + 1\n",
    "\n",
    "# 준비한 데이터 소스로부터 데이터셋을 만듭니다\n",
    "# 데이터셋에 대해서는 아래 문서를 참고하세요\n",
    "# 자세히 알아둘수록 도움이 많이 되는 중요한 문서입니다\n",
    "# https://www.tensorflow.org/api_docs/python/tf/data/Dataset\n",
    "dataset = tf.data.Dataset.from_tensor_slices((src_input, tgt_input))\n",
    "dataset = dataset.shuffle(BUFFER_SIZE)\n",
    "dataset = dataset.batch(BATCH_SIZE, drop_remainder=True)\n",
    "dataset"
   ]
  },
  {
   "cell_type": "code",
   "execution_count": 10,
   "id": "76b47d1d",
   "metadata": {},
   "outputs": [],
   "source": [
    "class TextGenerator(tf.keras.Model):\n",
    "    def __init__(self, vocab_size, embedding_size, hidden_size):\n",
    "        super().__init__()\n",
    "        \n",
    "        self.embedding = tf.keras.layers.Embedding(vocab_size, embedding_size)\n",
    "        self.rnn_1 = tf.keras.layers.LSTM(hidden_size, return_sequences=True)\n",
    "        self.rnn_2 = tf.keras.layers.LSTM(hidden_size, return_sequences=True)\n",
    "        self.rnn_3 = tf.keras.layers.LSTM(hidden_size, return_sequences=True)        \n",
    "        self.linear = tf.keras.layers.Dense(vocab_size)\n",
    "        \n",
    "    def call(self, x):\n",
    "        out = self.embedding(x)\n",
    "        out = self.rnn_1(out)\n",
    "        out = self.rnn_2(out)\n",
    "        out = self.rnn_3(out)\n",
    "        out = self.linear(out)\n",
    "        \n",
    "        return out\n",
    "embedding_size = 256\n",
    "hidden_size = 1024\n",
    "model = TextGenerator(tokenizer.num_words + 1, embedding_size, hidden_size)\n"
   ]
  },
  {
   "cell_type": "code",
   "execution_count": 11,
   "id": "d7393e50",
   "metadata": {
    "scrolled": true
   },
   "outputs": [
    {
     "name": "stdout",
     "output_type": "stream",
     "text": [
      "Model: \"text_generator\"\n",
      "_________________________________________________________________\n",
      "Layer (type)                 Output Shape              Param #   \n",
      "=================================================================\n",
      "embedding (Embedding)        multiple                  1792256   \n",
      "_________________________________________________________________\n",
      "lstm (LSTM)                  multiple                  5246976   \n",
      "_________________________________________________________________\n",
      "lstm_1 (LSTM)                multiple                  8392704   \n",
      "_________________________________________________________________\n",
      "lstm_2 (LSTM)                multiple                  8392704   \n",
      "_________________________________________________________________\n",
      "dense (Dense)                multiple                  7176025   \n",
      "=================================================================\n",
      "Total params: 31,000,665\n",
      "Trainable params: 31,000,665\n",
      "Non-trainable params: 0\n",
      "_________________________________________________________________\n"
     ]
    }
   ],
   "source": [
    "# 데이터셋에서 데이터 한 배치만 불러오는 방법입니다.\n",
    "# 지금은 동작 원리에 너무 빠져들지 마세요~\n",
    "for src_sample, tgt_sample in dataset.take(1): break\n",
    "\n",
    "# 한 배치만 불러온 데이터를 모델에 넣어봅니다\n",
    "model(src_sample)\n",
    "\n",
    "model.summary()"
   ]
  },
  {
   "cell_type": "markdown",
   "id": "6fcbaeff",
   "metadata": {},
   "source": [
    "####  Step 5.인공지능 만들기"
   ]
  },
  {
   "cell_type": "code",
   "execution_count": 12,
   "id": "57ae93ce",
   "metadata": {
    "scrolled": false
   },
   "outputs": [
    {
     "name": "stdout",
     "output_type": "stream",
     "text": [
      "Epoch 1/30\n",
      "657/657 [==============================] - 277s 413ms/step - loss: 1.6344\n",
      "Epoch 2/30\n",
      "657/657 [==============================] - 279s 424ms/step - loss: 1.4371\n",
      "Epoch 3/30\n",
      "657/657 [==============================] - 280s 426ms/step - loss: 1.3466\n",
      "Epoch 4/30\n",
      "657/657 [==============================] - 280s 426ms/step - loss: 1.2893\n",
      "Epoch 5/30\n",
      "657/657 [==============================] - 280s 426ms/step - loss: 1.2422\n",
      "Epoch 6/30\n",
      "657/657 [==============================] - 280s 425ms/step - loss: 1.2022\n",
      "Epoch 7/30\n",
      "657/657 [==============================] - 280s 425ms/step - loss: 1.1636\n",
      "Epoch 8/30\n",
      "657/657 [==============================] - 280s 425ms/step - loss: 1.1278\n",
      "Epoch 9/30\n",
      "657/657 [==============================] - 280s 426ms/step - loss: 1.0937\n",
      "Epoch 10/30\n",
      "657/657 [==============================] - 280s 426ms/step - loss: 1.0604\n",
      "Epoch 11/30\n",
      "657/657 [==============================] - 280s 426ms/step - loss: 1.0275\n",
      "Epoch 12/30\n",
      "657/657 [==============================] - 280s 426ms/step - loss: 0.9950\n",
      "Epoch 13/30\n",
      "657/657 [==============================] - 280s 426ms/step - loss: 0.9623\n",
      "Epoch 14/30\n",
      "657/657 [==============================] - 280s 425ms/step - loss: 0.9294\n",
      "Epoch 15/30\n",
      "657/657 [==============================] - 280s 426ms/step - loss: 0.8958\n",
      "Epoch 16/30\n",
      "657/657 [==============================] - 280s 426ms/step - loss: 0.8621\n",
      "Epoch 17/30\n",
      "657/657 [==============================] - 280s 426ms/step - loss: 0.8281\n",
      "Epoch 18/30\n",
      "657/657 [==============================] - 280s 426ms/step - loss: 0.7947\n",
      "Epoch 19/30\n",
      "657/657 [==============================] - 280s 426ms/step - loss: 0.7622\n",
      "Epoch 20/30\n",
      "657/657 [==============================] - 280s 426ms/step - loss: 0.7313\n",
      "Epoch 21/30\n",
      "657/657 [==============================] - 280s 426ms/step - loss: 0.7019\n",
      "Epoch 22/30\n",
      "657/657 [==============================] - 280s 425ms/step - loss: 0.6744\n",
      "Epoch 23/30\n",
      "657/657 [==============================] - 279s 425ms/step - loss: 0.6489\n",
      "Epoch 24/30\n",
      "657/657 [==============================] - 279s 425ms/step - loss: 0.6253\n",
      "Epoch 25/30\n",
      "657/657 [==============================] - 279s 425ms/step - loss: 0.6034\n",
      "Epoch 26/30\n",
      "657/657 [==============================] - 279s 425ms/step - loss: 0.5833\n",
      "Epoch 27/30\n",
      "657/657 [==============================] - 279s 424ms/step - loss: 0.5648\n",
      "Epoch 28/30\n",
      "657/657 [==============================] - 279s 425ms/step - loss: 0.5480\n",
      "Epoch 29/30\n",
      "657/657 [==============================] - 279s 425ms/step - loss: 0.5327\n",
      "Epoch 30/30\n",
      "657/657 [==============================] - 279s 425ms/step - loss: 0.5189\n"
     ]
    },
    {
     "data": {
      "text/plain": [
       "<keras.callbacks.History at 0x7f18d01bc550>"
      ]
     },
     "execution_count": 12,
     "metadata": {},
     "output_type": "execute_result"
    }
   ],
   "source": [
    "from tensorflow.python.keras.callbacks import TensorBoard \n",
    "from time import time\n",
    "tensorboard = TensorBoard(log_dir=\"logs/{}\".format(time()))\n",
    "\n",
    "optimizer = tf.keras.optimizers.Adam()\n",
    "loss = tf.keras.losses.SparseCategoricalCrossentropy(\n",
    "    from_logits = True,\n",
    "    reduction='none'\n",
    ")\n",
    "\n",
    "model.compile(loss=loss, optimizer=optimizer)\n",
    "model.fit(dataset, epochs=30, batch_size=64, callbacks=[tensorboard])"
   ]
  },
  {
   "cell_type": "code",
   "execution_count": 15,
   "id": "79144f2b",
   "metadata": {},
   "outputs": [],
   "source": [
    "#문장생성 함수 정의\n",
    "#모델에게 시작 문장을 전달하면 모델이 시작 문장을 바탕으로 작문을 진행\n",
    "def generate_text(model, tokenizer, init_sentence=\"<start>\", max_len=20): #시작 문자열을 init_sentence 로 받으며 디폴트값은 <start> 를 받는다\n",
    "    # 테스트를 위해서 입력받은 init_sentence도 텐서로 변환합니다\n",
    "    test_input = tokenizer.texts_to_sequences([init_sentence]) #텍스트 안의 단어들을 숫자의 시퀀스의 형태로 변환\n",
    "    test_tensor = tf.convert_to_tensor(test_input, dtype=tf.int64)\n",
    "    end_token = tokenizer.word_index[\"<end>\"]\n",
    "\n",
    "    # 단어 하나씩 예측해 문장을 만듭니다\n",
    "    #    1. 입력받은 문장의 텐서를 입력합니다\n",
    "    #    2. 예측된 값 중 가장 높은 확률인 word index를 뽑아냅니다\n",
    "    #    3. 2에서 예측된 word index를 문장 뒤에 붙입니다\n",
    "    #    4. 모델이 <end>를 예측했거나, max_len에 도달했다면 문장 생성을 마칩니다 (도달 하지 못하였으면 while 루프를 돌면서 다음 단어를 예측)\n",
    "    while True: #루프를 돌면서 init_sentence에 단어를 하나씩 생성성\n",
    "        # 1\n",
    "        predict = model(test_tensor) \n",
    "        # 2\n",
    "        predict_word = tf.argmax(tf.nn.softmax(predict, axis=-1), axis=-1)[:, -1] \n",
    "        # 3 \n",
    "        test_tensor = tf.concat([test_tensor, tf.expand_dims(predict_word, axis=0)], axis=-1)\n",
    "        # 4 \n",
    "        if predict_word.numpy()[0] == end_token: break\n",
    "        if test_tensor.shape[1] >= max_len: break\n",
    "\n",
    "    generated = \"\"\n",
    "    # tokenizer를 이용해 word index를 단어로 하나씩 변환합니다 \n",
    "    for word_index in test_tensor[0].numpy():\n",
    "        generated += tokenizer.index_word[word_index] + \" \"\n",
    "\n",
    "    return generated #최종적으로 모델이 생성한 문장을 반환"
   ]
  },
  {
   "cell_type": "markdown",
   "id": "8bfc2815",
   "metadata": {},
   "source": [
    "#### 모델 테스트"
   ]
  },
  {
   "cell_type": "code",
   "execution_count": 16,
   "id": "676fc017",
   "metadata": {},
   "outputs": [
    {
     "data": {
      "text/plain": [
       "'<start> i love you so much <end> '"
      ]
     },
     "execution_count": 16,
     "metadata": {},
     "output_type": "execute_result"
    }
   ],
   "source": [
    "generate_text(model, tokenizer, init_sentence=\"<start> i love\", max_len=20)\n",
    "# generate_text 함수에 lyricist 라 정의한 모델을 이용해서 ilove 로 시작되는 문장을 생성"
   ]
  },
  {
   "cell_type": "markdown",
   "id": "bb3fc04e",
   "metadata": {},
   "source": [
    "## 회고"
   ]
  },
  {
   "cell_type": "markdown",
   "id": "c006cb91",
   "metadata": {},
   "source": [
    "- EmbeddingLayer를 통해서 문자를 숫자함수의 형태로 변환하여 모델링할 수 있도록 변환함을 알 수 있었음\n",
    "- RNN의 단점 Weight을 하나만 가지고 모델링을하여 backpropagation시 vanishing gradient, exploding gradient 발생가능\n",
    "- RNN의 단점을 보완하기 위해 LSTM은 forget gate, input gate, output gate등을 통하여 장기기억/단기기억 관리\n",
    "- 앞/뒤 단어의 연계관계를 forget gate통해서 관리하고 tanh(탄젠트하이퍼볼릭)통하여 활성화여부 결정\n",
    "- LSTM 레이어를 하나 더 (총 3개)로 층을 더 두어 테스트 하여 초반 loss가 1.6에서 시작하여 좀 더 나은 loss진입을 보여줌"
   ]
  }
 ],
 "metadata": {
  "kernelspec": {
   "display_name": "Python 3 (ipykernel)",
   "language": "python",
   "name": "python3"
  },
  "language_info": {
   "codemirror_mode": {
    "name": "ipython",
    "version": 3
   },
   "file_extension": ".py",
   "mimetype": "text/x-python",
   "name": "python",
   "nbconvert_exporter": "python",
   "pygments_lexer": "ipython3",
   "version": "3.9.7"
  }
 },
 "nbformat": 4,
 "nbformat_minor": 5
}
